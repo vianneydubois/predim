{
 "cells": [
  {
   "attachments": {},
   "cell_type": "markdown",
   "metadata": {},
   "source": [
    "**Aileron sizing according to Gudmunsson's process**"
   ]
  },
  {
   "cell_type": "code",
   "execution_count": 36,
   "metadata": {},
   "outputs": [],
   "source": [
    "import numpy as np\n",
    "\n",
    "from input import *"
   ]
  },
  {
   "attachments": {},
   "cell_type": "markdown",
   "metadata": {},
   "source": [
    "- Input data"
   ]
  },
  {
   "cell_type": "code",
   "execution_count": 37,
   "metadata": {},
   "outputs": [],
   "source": [
    "chord_ratio = 0.25 # aileron chord to wing chord ratio\n",
    "delta_max = np.deg2rad(10) # max aileron deflection\n",
    "delta_strech = 1. # deflection reduction due to control system stretching\n",
    "\n",
    "aileron_y_i = 0.5 # aileron inboard edge spanwise station\n",
    "aileron_y_o = 1.0 # aileron outboard edge spanwise station"
   ]
  },
  {
   "attachments": {},
   "cell_type": "markdown",
   "metadata": {},
   "source": [
    "- Control and stability derivatives"
   ]
  },
  {
   "cell_type": "code",
   "execution_count": 38,
   "metadata": {},
   "outputs": [
    {
     "name": "stdout",
     "output_type": "stream",
     "text": [
      "C_roll_p\t -0.975 \trad^-1\n",
      "C_l_delta\t 3.8264459099620725 \trad^-1\n",
      "\t\t 0.06678407977830865 \tdeg^-1\n",
      "C_roll_delta\t 0.7174586081178886 \trad^-1\n"
     ]
    }
   ],
   "source": [
    "# roll rate dumping\n",
    "C_roll_p = - w_C_l_alpha/6\n",
    "print('C_roll_p\\t', C_roll_p, '\\trad^-1')\n",
    "\n",
    "# aerofoil lift derivative w.r.t aileron deflection\n",
    "theta = np.arccos(2*(1-chord_ratio) - 1)\n",
    "C_l_delta = 2*(theta + np.sin(theta))\n",
    "print('C_l_delta\\t', C_l_delta, '\\trad^-1')\n",
    "print('\\t\\t', np.deg2rad(C_l_delta), '\\tdeg^-1')\n",
    "\n",
    "del theta\n",
    "\n",
    "# roll control derivative\n",
    "C_roll_delta = C_l_delta * (aileron_y_o**2 - aileron_y_i**2)/4\n",
    "print('C_roll_delta\\t', C_roll_delta, '\\trad^-1')"
   ]
  },
  {
   "cell_type": "code",
   "execution_count": 39,
   "metadata": {},
   "outputs": [
    {
     "name": "stdout",
     "output_type": "stream",
     "text": [
      "pb_2V = 0.12843092265059358 radians\n",
      "pb_2V = 7.35854982685014 deg\n"
     ]
    }
   ],
   "source": [
    "delta_max_true = delta_max * delta_strech\n",
    "\n",
    "# helix angle\n",
    "pb_2V = - C_roll_delta * delta_max_true / C_roll_p\n",
    "\n",
    "print('pb_2V =', pb_2V, 'radians')\n",
    "print('pb_2V =', np.rad2deg(pb_2V), 'deg')\n"
   ]
  },
  {
   "cell_type": "code",
   "execution_count": null,
   "metadata": {},
   "outputs": [],
   "source": []
  }
 ],
 "metadata": {
  "kernelspec": {
   "display_name": "Python 3",
   "language": "python",
   "name": "python3"
  },
  "language_info": {
   "codemirror_mode": {
    "name": "ipython",
    "version": 3
   },
   "file_extension": ".py",
   "mimetype": "text/x-python",
   "name": "python",
   "nbconvert_exporter": "python",
   "pygments_lexer": "ipython3",
   "version": "3.9.2"
  },
  "orig_nbformat": 4,
  "vscode": {
   "interpreter": {
    "hash": "949777d72b0d2535278d3dc13498b2535136f6dfe0678499012e853ee9abcab1"
   }
  }
 },
 "nbformat": 4,
 "nbformat_minor": 2
}
