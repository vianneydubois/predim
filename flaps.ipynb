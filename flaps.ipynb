{
 "cells": [
  {
   "attachments": {},
   "cell_type": "markdown",
   "metadata": {},
   "source": [
    "**Estimating the flaps configuration required to achieve the required $C_{L max}$**\n",
    "\n",
    "To be done\n",
    "- correct 2D lift increase for low $Re$ : *cf* 2022 IAC ISAE-SUPAERO paper..."
   ]
  },
  {
   "cell_type": "code",
   "execution_count": 7,
   "metadata": {},
   "outputs": [],
   "source": [
    "import numpy as np\n",
    "import matplotlib.pyplot as plt"
   ]
  },
  {
   "cell_type": "code",
   "execution_count": 8,
   "metadata": {},
   "outputs": [],
   "source": [
    "from input import *"
   ]
  },
  {
   "attachments": {},
   "cell_type": "markdown",
   "metadata": {},
   "source": [
    "- Input data"
   ]
  },
  {
   "cell_type": "code",
   "execution_count": 9,
   "metadata": {},
   "outputs": [],
   "source": [
    "# flap chord fraction range\n",
    "#w_flaps_chord = np.linspace(0.2, 0.3, 3)\n",
    "w_flaps_chord_fraction = 0.3\n",
    "\n",
    "# 2D lift increase for plain flaps and slotted flaps\n",
    "flaps_C_l_max_plain = 0.5\n",
    "flaps_C_l_max_slotted = 1.2\n"
   ]
  },
  {
   "attachments": {},
   "cell_type": "markdown",
   "metadata": {},
   "source": [
    "- Sizing"
   ]
  },
  {
   "cell_type": "code",
   "execution_count": 10,
   "metadata": {},
   "outputs": [],
   "source": [
    "# WING\n",
    "w_C_L_max_clean = 0.9*w_C_l_max_clean # for zero sweep angle\n",
    "\n",
    "# targeted wing lift increase\n",
    "w_Delta_C_L_target = w_C_L_max_target - w_C_l_max_clean\n",
    "\n",
    "w_S_flapped_plain = w_S * w_Delta_C_L_target / 0.9 / flaps_C_l_max_plain\n",
    "w_S_flapped_slotted = w_S * w_Delta_C_L_target / 0.9 / flaps_C_l_max_slotted\n",
    "\n",
    "w_span_flapped_plain = w_S_flapped_plain / (w_flaps_chord_fraction * w_chord)\n",
    "w_span_flapped_slotted = w_S_flapped_slotted / (w_flaps_chord_fraction * w_chord)\n",
    "\n",
    "w_flaps_span_stations_plain = [2*y/w_span for y in [fus_width/2, fus_width/2 + w_span_flapped_plain/2]]\n",
    "w_flaps_span_stations_slotted = [2*y/w_span for y in [fus_width/2, fus_width/2 + w_span_flapped_slotted/2]]"
   ]
  },
  {
   "cell_type": "markdown",
   "metadata": {},
   "source": [
    "- Output"
   ]
  },
  {
   "cell_type": "code",
   "execution_count": 11,
   "metadata": {},
   "outputs": [
    {
     "name": "stdout",
     "output_type": "stream",
     "text": [
      "Plain flaps :   from root to 154.4 % of the wing span\n",
      "Slotted flaps : from root to 68.0 % of the wing span\n"
     ]
    }
   ],
   "source": [
    "print(\"Plain flaps :   from root to\", '{:.1f}'.format(100*w_flaps_span_stations_plain[1]), \"% of the wing span\")\n",
    "print(\"Slotted flaps : from root to\", '{:.1f}'.format(100*w_flaps_span_stations_slotted[1]), \"% of the wing span\")\n"
   ]
  },
  {
   "attachments": {},
   "cell_type": "markdown",
   "metadata": {},
   "source": [
    "- Plotting the wing geometry"
   ]
  },
  {
   "cell_type": "code",
   "execution_count": 12,
   "metadata": {},
   "outputs": [
    {
     "data": {
      "image/png": "[encoded data removed]",
      "text/plain": [
       "<Figure size 864x288 with 1 Axes>"
      ]
     },
     "metadata": {
      "needs_background": "light"
     },
     "output_type": "display_data"
    }
   ],
   "source": [
    "fig = plt.figure(figsize=(12,4))\n",
    "def plot_wing():\n",
    "    x_wing = [-w_span/2, w_span/2, w_span/2, -w_span/2, -w_span/2]\n",
    "    y_wing = [0, 0, w_chord, w_chord, 0]\n",
    "\n",
    "    x_flaps_plain = [fus_width/2, w_span/2*w_flaps_span_stations_plain[1], \\\n",
    "        w_span/2*w_flaps_span_stations_plain[1], fus_width/2, fus_width/2]\n",
    "    y_flaps_plain = [0, 0, w_flaps_chord_fraction*w_chord, w_flaps_chord_fraction*w_chord, 0]\n",
    "\n",
    "    x_flaps_slotted = [fus_width/2, w_span/2*w_flaps_span_stations_slotted[1], \\\n",
    "        w_span/2*w_flaps_span_stations_slotted[1], fus_width/2, fus_width/2]\n",
    "    y_flaps_slotted = [0, 0, w_flaps_chord_fraction*w_chord, w_flaps_chord_fraction*w_chord, 0]\n",
    "\n",
    "\n",
    "    plt.plot(x_wing, y_wing, 'b-', label='wing')\n",
    "\n",
    "    #plt.plot(x_flaps_plain, y_flaps_plain, 'r--', label='plain flaps')\n",
    "    #plt.plot([-x for x in x_flaps_plain], y_flaps_plain, 'r--')\n",
    "\n",
    "    plt.plot(x_flaps_slotted, y_flaps_slotted, 'g--', label='slotted flaps')\n",
    "    plt.plot([-x for x in x_flaps_slotted], y_flaps_slotted, 'g--')\n",
    "\n",
    "\n",
    "    plt.plot([fus_width/2, fus_width/2], [-0.5*w_chord, 1.5*w_chord], 'b--', label='fuselage')\n",
    "    plt.plot([-fus_width/2, -fus_width/2], [-0.5*w_chord, 1.5*w_chord], 'b--')\n",
    "\n",
    "    plt.axis('equal')\n",
    "    plt.legend()\n",
    "    plt.show()\n",
    "\n",
    "plot_wing()\n"
   ]
  },
  {
   "cell_type": "code",
   "execution_count": null,
   "metadata": {},
   "outputs": [],
   "source": []
  }
 ],
 "metadata": {
  "kernelspec": {
   "display_name": "Python 3",
   "language": "python",
   "name": "python3"
  },
  "language_info": {
   "codemirror_mode": {
    "name": "ipython",
    "version": 3
   },
   "file_extension": ".py",
   "mimetype": "text/x-python",
   "name": "python",
   "nbconvert_exporter": "python",
   "pygments_lexer": "ipython3",
   "version": "3.9.2"
  },
  "orig_nbformat": 4,
  "vscode": {
   "interpreter": {
    "hash": "949777d72b0d2535278d3dc13498b2535136f6dfe0678499012e853ee9abcab1"
   }
  }
 },
 "nbformat": 4,
 "nbformat_minor": 2
}
