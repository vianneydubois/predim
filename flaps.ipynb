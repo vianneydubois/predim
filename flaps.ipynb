{
 "cells": [
  {
   "attachments": {},
   "cell_type": "markdown",
   "metadata": {},
   "source": [
    "**Estimating the flaps configuration required to achieve the required $C_{L max}$**\n",
    "\n",
    "To be done\n",
    "- correct 2D lift increase for low $Re$ : *cf* 2022 IAC ISAE-SUPAERO paper..."
   ]
  },
  {
   "cell_type": "code",
   "execution_count": 13,
   "metadata": {},
   "outputs": [],
   "source": [
    "import numpy as np"
   ]
  },
  {
   "attachments": {},
   "cell_type": "markdown",
   "metadata": {},
   "source": [
    "- Input data"
   ]
  },
  {
   "cell_type": "code",
   "execution_count": 18,
   "metadata": {},
   "outputs": [],
   "source": [
    "# WING\n",
    "w_S = 2.0\n",
    "w_span = 4.0\n",
    "\n",
    "# FUSELAGE\n",
    "fus_width = 0.25\n",
    "\n",
    "# AEROFOIL (E423)\n",
    "# max aeroifoil lift coefficient at Re~300k\n",
    "w_C_l_max_clean = 1.9 # from Selig\n",
    "\n",
    "# LIFT REQUIREMENTS\n",
    "w_C_L_max_target = 2.1\n",
    "\n",
    "# flap chord fraction range\n",
    "#w_flaps_chord = np.linspace(0.2, 0.3, 3)\n",
    "w_flaps_chord = 0.3\n",
    "\n",
    "# 2D lift increase for plain flaps and slotted flaps\n",
    "flaps_C_l_max_plain = 0.5\n",
    "flaps_C_l_max_slotted = 0.7\n"
   ]
  },
  {
   "cell_type": "code",
   "execution_count": 19,
   "metadata": {},
   "outputs": [],
   "source": [
    "# WING\n",
    "w_C_L_max_clean = 0.9*w_C_l_max_clean # for zero sweep angle\n",
    "\n",
    "# targeted wing lift increase\n",
    "w_Delta_C_L_target = w_C_L_max_target - w_C_l_max_clean\n",
    "\n",
    "w_S_flapped_plain = w_S * w_Delta_C_L_target / 0.9 / flaps_C_l_max_plain\n",
    "w_S_flapped_slotted = w_S * w_Delta_C_L_target / 0.9 / flaps_C_l_max_slotted\n",
    "\n",
    "w_span_flapped_plain = w_S_flapped_plain / w_flaps_chord\n",
    "w_span_flapped_slotted = w_S_flapped_slotted / w_flaps_chord\n",
    "\n",
    "w_flaps_span_stations_plain = [2*y/w_span for y in [fus_width/2, fus_width/2 + w_span_flapped_plain/2]]\n",
    "w_flaps_span_stations_slotted = [2*y/w_span for y in [fus_width/2, fus_width/2 + w_span_flapped_slotted/2]]"
   ]
  },
  {
   "cell_type": "markdown",
   "metadata": {},
   "source": [
    "- Output"
   ]
  },
  {
   "cell_type": "code",
   "execution_count": 30,
   "metadata": {},
   "outputs": [
    {
     "name": "stdout",
     "output_type": "stream",
     "text": [
      "Plain flaps :   from root to 80.3 % of the wing span\n",
      "Slotted flaps : from root to 59.2 % of the wing span\n"
     ]
    }
   ],
   "source": [
    "print(\"Plain flaps :   from root to\", '{:.1f}'.format(100*w_flaps_span_stations_plain[1]), \"% of the wing span\")\n",
    "print(\"Slotted flaps : from root to\", '{:.1f}'.format(100*w_flaps_span_stations_slotted[1]), \"% of the wing span\")\n"
   ]
  }
 ],
 "metadata": {
  "kernelspec": {
   "display_name": "Python 3",
   "language": "python",
   "name": "python3"
  },
  "language_info": {
   "codemirror_mode": {
    "name": "ipython",
    "version": 3
   },
   "file_extension": ".py",
   "mimetype": "text/x-python",
   "name": "python",
   "nbconvert_exporter": "python",
   "pygments_lexer": "ipython3",
   "version": "3.9.2"
  },
  "orig_nbformat": 4,
  "vscode": {
   "interpreter": {
    "hash": "949777d72b0d2535278d3dc13498b2535136f6dfe0678499012e853ee9abcab1"
   }
  }
 },
 "nbformat": 4,
 "nbformat_minor": 2
}
