{
 "cells": [
  {
   "attachments": {},
   "cell_type": "markdown",
   "metadata": {},
   "source": [
    "## Tailplane sizing using the volume method"
   ]
  },
  {
   "cell_type": "code",
   "execution_count": 1,
   "metadata": {},
   "outputs": [],
   "source": [
    "import numpy as np"
   ]
  },
  {
   "attachments": {},
   "cell_type": "markdown",
   "metadata": {},
   "source": [
    "Aeroplane reference values"
   ]
  },
  {
   "cell_type": "code",
   "execution_count": 2,
   "metadata": {},
   "outputs": [],
   "source": [
    "S_ref = 2.0\n",
    "c_ref = 0.5\n",
    "b_ref = 4.0"
   ]
  },
  {
   "attachments": {},
   "cell_type": "markdown",
   "metadata": {},
   "source": [
    "Tailplane sizing choices"
   ]
  },
  {
   "cell_type": "code",
   "execution_count": 3,
   "metadata": {},
   "outputs": [],
   "source": [
    "# moment arms\n",
    "ht_moment_arm = 1.5\n",
    "vt_moment_arm = 1.5\n",
    "\n",
    "# volume coefficients\n",
    "ht_volume_coef = 0.7\n",
    "vt_volume_coef = 0.07\n",
    "\n",
    "# aspect ratio\n",
    "ht_AR = 4\n",
    "vt_AR = 2\n",
    "\n",
    "# taper ratio\n",
    "ht_taper = 1\n",
    "vt_taper = 1"
   ]
  },
  {
   "attachments": {},
   "cell_type": "markdown",
   "metadata": {},
   "source": [
    "Sizing"
   ]
  },
  {
   "cell_type": "code",
   "execution_count": 4,
   "metadata": {},
   "outputs": [
    {
     "name": "stdout",
     "output_type": "stream",
     "text": [
      "S_ht = 0.4666666666666666\n",
      "S_vt = 0.37333333333333335\n",
      "b_ht = 1.3662601021279464\n",
      "b_vt = 0.8640987597877147\n",
      "c_r_ht = 0.3415650255319866\n",
      "c_r_vt = 0.4320493798938574\n"
     ]
    }
   ],
   "source": [
    "# horizontal and vertical stabilisers : surface area\n",
    "S_ht = ht_volume_coef * S_ref * c_ref / ht_moment_arm\n",
    "S_vt = vt_volume_coef * S_ref * b_ref / vt_moment_arm\n",
    "print('S_ht =', S_ht)\n",
    "print('S_vt =', S_vt)\n",
    "\n",
    "# horizontal and vertical stabilisers : span\n",
    "# tip-to-tip for horizontal\n",
    "# root to tip for vertical\n",
    "b_ht = np.sqrt(ht_AR*S_ht)\n",
    "b_vt = np.sqrt(vt_AR*S_vt)\n",
    "print('b_ht =', b_ht)\n",
    "print('b_vt =', b_vt)\n",
    "\n",
    "\n",
    "# horizontal and vertical stabilisers : root chord\n",
    "c_r_ht = 2 * S_ht/b_ht/(1+ht_taper)\n",
    "c_r_vt = 2 * S_vt/b_vt/(1+vt_taper)\n",
    "print('c_r_ht =', c_r_ht)\n",
    "print('c_r_vt =', c_r_vt)"
   ]
  },
  {
   "attachments": {},
   "cell_type": "markdown",
   "metadata": {},
   "source": [
    "### Aerodynamics"
   ]
  },
  {
   "cell_type": "code",
   "execution_count": 6,
   "metadata": {},
   "outputs": [
    {
     "name": "stdout",
     "output_type": "stream",
     "text": [
      "C_L_aplha (HT) = 3.391813877881239\n"
     ]
    }
   ],
   "source": [
    "# Aerofoils lift curve slopes (rad/s)\n",
    "C_l_alpha_ht = 5\n",
    "\n",
    "# Stabilisers lift curve slope (rad/s)\n",
    "C_L_alpha_ht = np.pi * ht_AR / (1 + np.sqrt( (np.pi*ht_AR/C_l_alpha_ht)**2 + 1 ))\n",
    "print('C_L_aplha (HT) =', C_L_alpha_ht)"
   ]
  },
  {
   "cell_type": "code",
   "execution_count": null,
   "metadata": {},
   "outputs": [],
   "source": []
  }
 ],
 "metadata": {
  "kernelspec": {
   "display_name": "Python 3",
   "language": "python",
   "name": "python3"
  },
  "language_info": {
   "codemirror_mode": {
    "name": "ipython",
    "version": 3
   },
   "file_extension": ".py",
   "mimetype": "text/x-python",
   "name": "python",
   "nbconvert_exporter": "python",
   "pygments_lexer": "ipython3",
   "version": "3.9.2"
  },
  "orig_nbformat": 4,
  "vscode": {
   "interpreter": {
    "hash": "949777d72b0d2535278d3dc13498b2535136f6dfe0678499012e853ee9abcab1"
   }
  }
 },
 "nbformat": 4,
 "nbformat_minor": 2
}
