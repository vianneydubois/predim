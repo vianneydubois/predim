{
 "cells": [
  {
   "attachments": {},
   "cell_type": "markdown",
   "metadata": {},
   "source": [
    "**Tailplane sizing using the volume method**"
   ]
  },
  {
   "cell_type": "code",
   "execution_count": 6,
   "metadata": {},
   "outputs": [],
   "source": [
    "import numpy as np"
   ]
  },
  {
   "attachments": {},
   "cell_type": "markdown",
   "metadata": {},
   "source": [
    "- Aeroplane reference values"
   ]
  },
  {
   "cell_type": "code",
   "execution_count": 7,
   "metadata": {},
   "outputs": [],
   "source": [
    "S_ref = 2.0\n",
    "c_ref = 0.52\n",
    "b_ref = 4.1"
   ]
  },
  {
   "attachments": {},
   "cell_type": "markdown",
   "metadata": {},
   "source": [
    "- Tailplane sizing input data\n",
    "    - lever arms\n",
    "    - volume coefficients\n",
    "    - aspect ratios\n",
    "    - taper ratios"
   ]
  },
  {
   "cell_type": "code",
   "execution_count": 8,
   "metadata": {},
   "outputs": [],
   "source": [
    "# moment arms\n",
    "ht_moment_arm = 1.1\n",
    "vt_moment_arm = 1.1\n",
    "\n",
    "# volume coefficients\n",
    "ht_volume_coef = 0.7\n",
    "vt_volume_coef = 0.05\n",
    "\n",
    "# aspect ratio\n",
    "ht_AR = 4\n",
    "vt_AR = 2\n",
    "\n",
    "# taper ratio\n",
    "ht_taper = 1\n",
    "vt_taper = 1"
   ]
  },
  {
   "attachments": {},
   "cell_type": "markdown",
   "metadata": {},
   "source": [
    "- Sizing"
   ]
  },
  {
   "cell_type": "code",
   "execution_count": 11,
   "metadata": {},
   "outputs": [
    {
     "name": "stdout",
     "output_type": "stream",
     "text": [
      "S_ht = 0.6618181818181817 m^2\n",
      "S_vt = 0.3727272727272727 m^2\n",
      "b_ht = 1.627044168814334 m\n",
      "b_vt = 0.8633970960424556 m\n",
      "c_r_ht = 0.4067610422035835 m\n",
      "c_r_vt = 0.4316985480212278 m\n"
     ]
    }
   ],
   "source": [
    "# horizontal and vertical stabilisers : surface area\n",
    "S_ht = ht_volume_coef * S_ref * c_ref / ht_moment_arm\n",
    "S_vt = vt_volume_coef * S_ref * b_ref / vt_moment_arm\n",
    "print('S_ht =', S_ht, 'm^2')\n",
    "print('S_vt =', S_vt, 'm^2')\n",
    "\n",
    "# horizontal and vertical stabilisers : span\n",
    "# tip-to-tip for horizontal\n",
    "# root to tip for vertical\n",
    "b_ht = np.sqrt(ht_AR*S_ht)\n",
    "b_vt = np.sqrt(vt_AR*S_vt)\n",
    "print('b_ht =', b_ht, 'm')\n",
    "print('b_vt =', b_vt, 'm')\n",
    "\n",
    "\n",
    "# horizontal and vertical stabilisers : root chord\n",
    "c_r_ht = 2 * S_ht/b_ht/(1+ht_taper)\n",
    "c_r_vt = 2 * S_vt/b_vt/(1+vt_taper)\n",
    "print('c_r_ht =', c_r_ht, 'm')\n",
    "print('c_r_vt =', c_r_vt, 'm')"
   ]
  },
  {
   "cell_type": "code",
   "execution_count": null,
   "metadata": {},
   "outputs": [],
   "source": []
  }
 ],
 "metadata": {
  "kernelspec": {
   "display_name": "Python 3",
   "language": "python",
   "name": "python3"
  },
  "language_info": {
   "codemirror_mode": {
    "name": "ipython",
    "version": 3
   },
   "file_extension": ".py",
   "mimetype": "text/x-python",
   "name": "python",
   "nbconvert_exporter": "python",
   "pygments_lexer": "ipython3",
   "version": "3.9.2"
  },
  "orig_nbformat": 4,
  "vscode": {
   "interpreter": {
    "hash": "949777d72b0d2535278d3dc13498b2535136f6dfe0678499012e853ee9abcab1"
   }
  }
 },
 "nbformat": 4,
 "nbformat_minor": 2
}
