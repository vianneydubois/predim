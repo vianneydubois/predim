{
 "cells": [
  {
   "attachments": {},
   "cell_type": "markdown",
   "metadata": {},
   "source": [
    "**Tailplane sizing using the volume method**"
   ]
  },
  {
   "cell_type": "code",
   "execution_count": 1,
   "metadata": {},
   "outputs": [],
   "source": [
    "import numpy as np"
   ]
  },
  {
   "cell_type": "code",
   "execution_count": 2,
   "metadata": {},
   "outputs": [],
   "source": [
    "from input import *"
   ]
  },
  {
   "attachments": {},
   "cell_type": "markdown",
   "metadata": {},
   "source": [
    "- Aeroplane reference values"
   ]
  },
  {
   "cell_type": "code",
   "execution_count": 3,
   "metadata": {},
   "outputs": [],
   "source": [
    "ref_S = w_S\n",
    "ref_chord = w_chord\n",
    "ref_span = w_chord"
   ]
  },
  {
   "attachments": {},
   "cell_type": "markdown",
   "metadata": {},
   "source": [
    "- Tailplane sizing input data\n",
    "    - lever arms\n",
    "    - volume coefficients\n",
    "    - aspect ratios\n",
    "    - taper ratios"
   ]
  },
  {
   "cell_type": "code",
   "execution_count": 4,
   "metadata": {},
   "outputs": [],
   "source": [
    "# moment arms\n",
    "ht_moment_arm = 1.1\n",
    "vt_moment_arm = 1.1\n",
    "\n",
    "# volume coefficients\n",
    "ht_volume_coef = 0.7\n",
    "vt_volume_coef = 0.05\n",
    "\n",
    "# aspect ratio\n",
    "ht_AR = 4\n",
    "vt_AR = 2\n",
    "\n",
    "# taper ratio\n",
    "ht_taper = 1\n",
    "vt_taper = 1"
   ]
  },
  {
   "attachments": {},
   "cell_type": "markdown",
   "metadata": {},
   "source": [
    "- Sizing"
   ]
  },
  {
   "cell_type": "code",
   "execution_count": 5,
   "metadata": {},
   "outputs": [
    {
     "name": "stdout",
     "output_type": "stream",
     "text": [
      "ht_S = 0.6681818181818181 m^2\n",
      "vt_S = 0.04772727272727273 m^2\n",
      "b_ht = 1.634847782739198 m\n",
      "b_vt = 0.30895719032666236 m\n",
      "c_r_ht = 0.40871194568479957 m\n",
      "c_r_vt = 0.15447859516333115 m\n"
     ]
    }
   ],
   "source": [
    "# horizontal and vertical stabilisers : surface area\n",
    "ht_S = ht_volume_coef * ref_S * ref_chord / ht_moment_arm\n",
    "vt_S = vt_volume_coef * ref_S * ref_span / vt_moment_arm\n",
    "print('ht_S =', ht_S, 'm^2')\n",
    "print('vt_S =', vt_S, 'm^2')\n",
    "\n",
    "# horizontal and vertical stabilisers : span\n",
    "# tip-to-tip for horizontal\n",
    "# root to tip for vertical\n",
    "ht_span = np.sqrt(ht_AR*ht_S)\n",
    "vt_span = np.sqrt(vt_AR*vt_S)\n",
    "print('ht_span =', ht_span, 'm')\n",
    "print('vt_span =', vt_span, 'm')\n",
    "\n",
    "\n",
    "# horizontal and vertical stabilisers : root chord\n",
    "ht_root_chord = 2 * ht_S/ht_span/(1+ht_taper)\n",
    "vt_root_chord = 2 * vt_S/vt_span/(1+vt_taper)\n",
    "print('c_r_ht =', ht_root_chord, 'm')\n",
    "print('c_r_vt =', vt_root_chord, 'm')"
   ]
  },
  {
   "cell_type": "code",
   "execution_count": null,
   "metadata": {},
   "outputs": [],
   "source": []
  }
 ],
 "metadata": {
  "kernelspec": {
   "display_name": "Python 3",
   "language": "python",
   "name": "python3"
  },
  "language_info": {
   "codemirror_mode": {
    "name": "ipython",
    "version": 3
   },
   "file_extension": ".py",
   "mimetype": "text/x-python",
   "name": "python",
   "nbconvert_exporter": "python",
   "pygments_lexer": "ipython3",
   "version": "3.9.2"
  },
  "orig_nbformat": 4,
  "vscode": {
   "interpreter": {
    "hash": "949777d72b0d2535278d3dc13498b2535136f6dfe0678499012e853ee9abcab1"
   }
  }
 },
 "nbformat": 4,
 "nbformat_minor": 2
}
