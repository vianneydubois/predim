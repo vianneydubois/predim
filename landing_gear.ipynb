{
 "cells": [
  {
   "attachments": {},
   "cell_type": "markdown",
   "metadata": {},
   "source": [
    "**Testing a landing gear geometry**\n",
    "\n",
    "Criteria :\n",
    "- correct balance between main landing gear (MLG) and nose landing gear (NLG)\n",
    "- limited overturn angle to ensure sufficient taxiing stability on sharp turns\n",
    "- enough ground clearance for the aft mounted propeller"
   ]
  },
  {
   "cell_type": "code",
   "execution_count": 17,
   "metadata": {},
   "outputs": [],
   "source": [
    "import numpy as np\n",
    "import matplotlib.pyplot as plt\n",
    "from input import *"
   ]
  },
  {
   "attachments": {},
   "cell_type": "markdown",
   "metadata": {},
   "source": [
    "- parameters"
   ]
  },
  {
   "cell_type": "code",
   "execution_count": 18,
   "metadata": {},
   "outputs": [],
   "source": [
    "# input parameters\n",
    "lg_height = 0.25\n",
    "lg_nose_x = -1.0\n",
    "lg_main_x = 0.3\n",
    "lg_track = 0.75 # MLG wheel to wheel distance\n",
    "\n",
    "tailstrike_margin = 0.05 # vertical margin preventing tailstrike\n",
    "\n",
    "\n",
    "# previously computed :\n",
    "fus_aft_x = 1.4 # from the formula used in the plot part of sizing_main.ipynb\n",
    "cg_x = 0.1679167777535191 # cg x position, posiive rearwards\n",
    "\n",
    "# can be computed within the function\n",
    "gnd_z = lg_height + fus_height/2 # ground z position from ref point, positive downwards"
   ]
  },
  {
   "attachments": {},
   "cell_type": "markdown",
   "metadata": {},
   "source": [
    "- _overturn angle_"
   ]
  },
  {
   "cell_type": "code",
   "execution_count": 19,
   "metadata": {},
   "outputs": [
    {
     "name": "stdout",
     "output_type": "stream",
     "text": [
      "overturn angle : 57.18519239561775 deg\n",
      "\tCriterion : < 63 deg\n"
     ]
    }
   ],
   "source": [
    "overturn_angle = np.arctan((gnd_z - cg_z) \\\n",
    "    / ((cg_x - lg_nose_x) * np.sin( np.arctan(lg_track / (2 * (lg_main_x - lg_nose_x))))) \\\n",
    "    )\n",
    "\n",
    "print(\"overturn angle :\", np.rad2deg(overturn_angle), \"deg\")\n",
    "print(\"\\tCriterion : < 63 deg\")"
   ]
  },
  {
   "attachments": {},
   "cell_type": "markdown",
   "metadata": {},
   "source": [
    "- charge sur roulette de nez"
   ]
  },
  {
   "cell_type": "code",
   "execution_count": 20,
   "metadata": {},
   "outputs": [
    {
     "name": "stdout",
     "output_type": "stream",
     "text": [
      "NLG load fraction : 10.160247865113913 %\n",
      "\tCriterion : 8 % <    < 15 %\n"
     ]
    }
   ],
   "source": [
    "lg_nose_downforce = mtow * 9.81 * (lg_main_x - cg_x) / (lg_main_x - lg_nose_x)\n",
    "print(\"NLG load fraction :\", lg_nose_downforce / 9.81 / mtow * 100, \"%\")\n",
    "print(\"\\tCriterion : 8 % <    < 15 %\")"
   ]
  },
  {
   "attachments": {},
   "cell_type": "markdown",
   "metadata": {},
   "source": [
    "- _tipback angle_ : assiette avant que le CG ne passe derrière le MLG et l'avion ne bascule"
   ]
  },
  {
   "cell_type": "code",
   "execution_count": 21,
   "metadata": {},
   "outputs": [
    {
     "name": "stdout",
     "output_type": "stream",
     "text": [
      "Tipback angle = 14.741210101248239 deg\n",
      "\tCriterion : > 15 deg\n"
     ]
    }
   ],
   "source": [
    "tipback_angle = np.arctan((lg_main_x - cg_x)/(gnd_z - cg_z))\n",
    "print(\"Tipback angle =\", np.rad2deg(tipback_angle), \"deg\")\n",
    "print(\"\\tCriterion : > 15 deg\")"
   ]
  },
  {
   "attachments": {},
   "cell_type": "markdown",
   "metadata": {},
   "source": [
    "- angle d'assiette à la marge de _tailstrike_"
   ]
  },
  {
   "cell_type": "code",
   "execution_count": 22,
   "metadata": {},
   "outputs": [
    {
     "name": "stdout",
     "output_type": "stream",
     "text": [
      "Noseup angle at tailstrike margin : 5.749126251895335 deg\n"
     ]
    }
   ],
   "source": [
    "h = gnd_z - prop_axis_z\n",
    "D = fus_aft_x - lg_main_x\n",
    "prop_radius = prop_diameter/2\n",
    "\n",
    "OC = np.sqrt((h - prop_radius)**2 + D**2) # MLG to propeller tip distance\n",
    "\n",
    "tailstrike_limit = - np.arcsin(tailstrike_margin/OC) + np.arctan((h - prop_radius)/D)\n",
    "print(\"Noseup angle at tailstrike margin :\", np.rad2deg(tailstrike_limit), \"deg\")"
   ]
  },
  {
   "attachments": {},
   "cell_type": "markdown",
   "metadata": {},
   "source": [
    "- vue du dessus"
   ]
  },
  {
   "cell_type": "code",
   "execution_count": 23,
   "metadata": {},
   "outputs": [
    {
     "data": {
      "image/png": "[encoded data removed]",
      "text/plain": [
       "<Figure size 576x432 with 1 Axes>"
      ]
     },
     "metadata": {
      "needs_background": "light"
     },
     "output_type": "display_data"
    }
   ],
   "source": [
    "fig = plt.figure(figsize=(8, 6))#, dpi=100)\n",
    "plt.plot(0, cg_x, 'b+', label='CG')\n",
    "\n",
    "plt.plot(0, lg_nose_x, 'r+')\n",
    "nosewheel_X = [ \\\n",
    "    lg_wheel_thickness/2, lg_wheel_thickness/2, \\\n",
    "    -lg_wheel_thickness/2, -lg_wheel_thickness/2, \\\n",
    "    lg_wheel_thickness/2]\n",
    "nosewheel_Y = [ \\\n",
    "    lg_nose_x - lg_wheel_diam/2, lg_nose_x + lg_wheel_diam/2, \\\n",
    "    lg_nose_x + lg_wheel_diam/2, lg_nose_x - lg_wheel_diam/2, \\\n",
    "    lg_nose_x - lg_wheel_diam/2\n",
    "    ]\n",
    "plt.plot(nosewheel_X, nosewheel_Y, 'r-', label='NLG')\n",
    "\n",
    "mainwheel_X = [ \\\n",
    "    lg_wheel_thickness/2, lg_wheel_thickness/2, \\\n",
    "    -lg_wheel_thickness/2, -lg_wheel_thickness/2, \\\n",
    "    lg_wheel_thickness/2]\n",
    "mainwheel_X_right = [x + lg_track/2 for x in mainwheel_X]\n",
    "mainwheel_X_left = [x - lg_track/2 for x in mainwheel_X]\n",
    "\n",
    "mainwheel_Y = [ \\\n",
    "    lg_main_x - lg_wheel_diam/2, lg_main_x + lg_wheel_diam/2, \\\n",
    "    lg_main_x + lg_wheel_diam/2, lg_main_x - lg_wheel_diam/2, \\\n",
    "    lg_main_x - lg_wheel_diam/2\n",
    "    ]\n",
    "\n",
    "plt.plot(lg_track/2, lg_main_x, 'g+')\n",
    "plt.plot(mainwheel_X_right, mainwheel_Y, 'g-')\n",
    "plt.plot(-lg_track/2, lg_main_x, 'g+')\n",
    "plt.plot(mainwheel_X_left, mainwheel_Y, 'g-', label='MLG')\n",
    "\n",
    "\n",
    "plt.gca().invert_yaxis()\n",
    "plt.axis('equal')\n",
    "plt.legend()\n",
    "plt.show()"
   ]
  },
  {
   "cell_type": "code",
   "execution_count": null,
   "metadata": {},
   "outputs": [],
   "source": []
  }
 ],
 "metadata": {
  "kernelspec": {
   "display_name": "Python 3",
   "language": "python",
   "name": "python3"
  },
  "language_info": {
   "codemirror_mode": {
    "name": "ipython",
    "version": 3
   },
   "file_extension": ".py",
   "mimetype": "text/x-python",
   "name": "python",
   "nbconvert_exporter": "python",
   "pygments_lexer": "ipython3",
   "version": "3.9.2"
  },
  "orig_nbformat": 4,
  "vscode": {
   "interpreter": {
    "hash": "949777d72b0d2535278d3dc13498b2535136f6dfe0678499012e853ee9abcab1"
   }
  }
 },
 "nbformat": 4,
 "nbformat_minor": 2
}
