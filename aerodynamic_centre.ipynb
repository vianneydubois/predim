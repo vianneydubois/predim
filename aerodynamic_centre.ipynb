{
 "cells": [
  {
   "attachments": {},
   "cell_type": "markdown",
   "metadata": {},
   "source": [
    "**Computes the aerodynamic centre longitudinal position\n",
    "The reference point is the wing root leading edge**\n",
    "\n",
    "To be done :\n",
    "- uniformise the variable naming : element_quantity. Example : w_C_l_alpha"
   ]
  },
  {
   "cell_type": "code",
   "execution_count": 1,
   "metadata": {},
   "outputs": [],
   "source": [
    "import numpy as np"
   ]
  },
  {
   "cell_type": "code",
   "execution_count": 2,
   "metadata": {},
   "outputs": [],
   "source": [
    "# INPUT DATA\n",
    "\n",
    "# Wing\n",
    "w_chord = 0.5 # chord\n",
    "w_span = 4.0 # wing span\n",
    "w_S = 2.0 # wing surface area\n",
    "w_C_l_alpha = 5.85 # E423, XFOIL prediction\n",
    "w_AR = 8 # wing aspect ratio\n",
    "\n",
    "# Horizontal tail plane\n",
    "ht_moment_arm = 1.1 # distance from wing AC to ht AC\n",
    "ht_C_l_alpha = 5\n",
    "ht_AR = 4\n",
    "ht_S = 0.6618181818181817\n",
    "\n",
    "# Fuselage\n",
    "fus_volume = 0*3*0.3*1.5"
   ]
  },
  {
   "cell_type": "code",
   "execution_count": 3,
   "metadata": {},
   "outputs": [],
   "source": [
    "# AERODYNAMICS\n",
    "# /!\\ All lifting surfaces coefficient are non-dimensionalied by their own surface area\n",
    "# not by Sref = Sw\n",
    "\n",
    "# wing lift gradient coefficient\n",
    "w_C_L_alpha = np.pi * w_AR / (1 + np.sqrt(1 + (np.pi * w_AR / w_C_l_alpha)**2) )\n",
    "# wing AC position\n",
    "w_AC_x = 0.25*w_chord\n",
    "\n",
    "# ht lift gradient coefficient /!\\ : non-dimensionalised with Sref = ht_S\n",
    "ht_C_L_alpha = np.pi * ht_AR / (1 + np.sqrt(1 + (np.pi * ht_AR / ht_C_l_alpha)**2) )\n",
    "# ht AC position\n",
    "ht_AC_x = w_AC_x + ht_moment_arm\n",
    "\n",
    "# ht efficiency -- should be around 0.6-0.75\n",
    "ht_eta = 1 - 8*w_C_L_alpha/np.pi**3/w_AR * (1 + 1/np.cos(np.arctan(w_span*np.pi/8/ht_moment_arm)))\n"
   ]
  },
  {
   "cell_type": "code",
   "execution_count": 4,
   "metadata": {},
   "outputs": [
    {
     "name": "stdout",
     "output_type": "stream",
     "text": [
      "Neutral point position :  52.4 % de la corde\n"
     ]
    }
   ],
   "source": [
    "# Aerodynamic centre estimation\n",
    "AC_x = (w_C_L_alpha*w_S*w_AC_x + ht_eta*ht_C_L_alpha*ht_S*ht_AC_x - 2*fus_volume ) \\\n",
    "    / (w_C_L_alpha*w_S + ht_eta*ht_C_L_alpha*ht_S )\n",
    "print('Neutral point position : ', '{0:.1f}'.format(AC_x/w_chord*100), '% de la corde')\n"
   ]
  }
 ],
 "metadata": {
  "kernelspec": {
   "display_name": "Python 3",
   "language": "python",
   "name": "python3"
  },
  "language_info": {
   "codemirror_mode": {
    "name": "ipython",
    "version": 3
   },
   "file_extension": ".py",
   "mimetype": "text/x-python",
   "name": "python",
   "nbconvert_exporter": "python",
   "pygments_lexer": "ipython3",
   "version": "3.9.2"
  },
  "orig_nbformat": 4,
  "vscode": {
   "interpreter": {
    "hash": "949777d72b0d2535278d3dc13498b2535136f6dfe0678499012e853ee9abcab1"
   }
  }
 },
 "nbformat": 4,
 "nbformat_minor": 2
}
