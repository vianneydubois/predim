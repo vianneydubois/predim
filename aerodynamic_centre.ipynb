{
 "cells": [
  {
   "attachments": {},
   "cell_type": "markdown",
   "metadata": {},
   "source": [
    "**Computes the aerodynamic centre longitudinal position\n",
    "The reference point is the wing root leading edge**\n",
    "\n",
    "To be done :\n",
    "- uniformise the variable naming : element_quantity. Example : w_C_l_alpha"
   ]
  },
  {
   "cell_type": "code",
   "execution_count": 41,
   "metadata": {},
   "outputs": [],
   "source": [
    "import numpy as np"
   ]
  },
  {
   "cell_type": "code",
   "execution_count": 42,
   "metadata": {},
   "outputs": [],
   "source": [
    "# INPUT DATA\n",
    "\n",
    "# Wing\n",
    "c_w = 0.5 # chord\n",
    "b_w = 4.0 # wing span\n",
    "S_w = 2.0 # wing surface area\n",
    "C_l_alpha_w = 5.85 # E423, XFOIL prediction\n",
    "w_AR = 8 # wing aspect ratio\n",
    "\n",
    "# Horizontal tail plane\n",
    "ht_moment_arm = 1.1 # distance from wing AC to ht AC\n",
    "C_l_alpha_ht = 5\n",
    "ht_AR = 4\n",
    "S_ht = 0.6618181818181817\n",
    "\n",
    "# Fuselage\n",
    "fus_volume = 0*3*0.3*1.5"
   ]
  },
  {
   "cell_type": "code",
   "execution_count": 43,
   "metadata": {},
   "outputs": [],
   "source": [
    "# AERODYNAMICS\n",
    "# /!\\ All lifting surfaces coefficient are non-dimensionalied by their own surface area\n",
    "# not by Sref = Sw\n",
    "\n",
    "# wing lift gradient coefficient\n",
    "C_L_alpha_w = np.pi * w_AR / (1 + np.sqrt(1 + (np.pi * w_AR / C_l_alpha_w)**2) )\n",
    "# wing AC position\n",
    "w_AC_x = 0.25*c_w\n",
    "\n",
    "# ht lift gradient coefficient /!\\ : non-dimensionalised with Sref = S_ht\n",
    "C_L_alpha_ht = np.pi * ht_AR / (1 + np.sqrt(1 + (np.pi * ht_AR / C_l_alpha_ht)**2) )\n",
    "# ht AC position\n",
    "ht_AC_x = w_AC_x + ht_moment_arm\n",
    "\n",
    "# ht efficiency -- should be around 0.6-0.75\n",
    "ht_eta = 1 - 8*C_L_alpha_w/np.pi**3/w_AR * (1 + 1/np.cos(np.arctan(b_w*np.pi/8/ht_moment_arm)))\n"
   ]
  },
  {
   "cell_type": "code",
   "execution_count": 44,
   "metadata": {},
   "outputs": [
    {
     "name": "stdout",
     "output_type": "stream",
     "text": [
      "Neutral point position :  55.5 % de la corde\n"
     ]
    }
   ],
   "source": [
    "# Aerodynamic centre estimation\n",
    "AC_x = (C_L_alpha_w*S_w*w_AC_x + ht_eta*C_L_alpha_ht*S_ht*ht_AC_x - 2*fus_volume ) \\\n",
    "    / (C_L_alpha_w*S_w + ht_eta*C_L_alpha_ht*S_ht )\n",
    "print('Neutral point position : ', '{0:.1f}'.format(AC_x/c_w*100), '% de la corde')\n"
   ]
  },
  {
   "cell_type": "code",
   "execution_count": null,
   "metadata": {},
   "outputs": [],
   "source": []
  }
 ],
 "metadata": {
  "kernelspec": {
   "display_name": "Python 3",
   "language": "python",
   "name": "python3"
  },
  "language_info": {
   "codemirror_mode": {
    "name": "ipython",
    "version": 3
   },
   "file_extension": ".py",
   "mimetype": "text/x-python",
   "name": "python",
   "nbconvert_exporter": "python",
   "pygments_lexer": "ipython3",
   "version": "3.9.2"
  },
  "orig_nbformat": 4,
  "vscode": {
   "interpreter": {
    "hash": "949777d72b0d2535278d3dc13498b2535136f6dfe0678499012e853ee9abcab1"
   }
  }
 },
 "nbformat": 4,
 "nbformat_minor": 2
}
