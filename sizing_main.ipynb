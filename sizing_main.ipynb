{
 "cells": [
  {
   "attachments": {},
   "cell_type": "markdown",
   "metadata": {},
   "source": [
    "**Basic sizing process**"
   ]
  },
  {
   "cell_type": "code",
   "execution_count": 10,
   "metadata": {},
   "outputs": [],
   "source": [
    "import numpy as np\n",
    "import matplotlib.pyplot as plt"
   ]
  },
  {
   "cell_type": "code",
   "execution_count": 11,
   "metadata": {},
   "outputs": [],
   "source": [
    "from sizing_functions import *"
   ]
  },
  {
   "attachments": {},
   "cell_type": "markdown",
   "metadata": {},
   "source": [
    "- Input values summary\n",
    "\n",
    "(From `input.py` file)"
   ]
  },
  {
   "cell_type": "code",
   "execution_count": 12,
   "metadata": {},
   "outputs": [
    {
     "name": "stdout",
     "output_type": "stream",
     "text": [
      "--> WING\n",
      "\tSurface\t 2.1 \tm^2\n",
      "\tSpan\t 4.2 \tm\n",
      "\tChord\t 0.5 \tm^2\n",
      "\n",
      "--> FUSELAGE\n",
      "\tVolume\t 0.094 \tm^3\n",
      "\tSwet\t 1.6 \tm^2\n"
     ]
    }
   ],
   "source": [
    "print('--> WING')\n",
    "print('\\tSurface\\t', w_S, '\\tm^2')\n",
    "print('\\tSpan\\t', w_span, '\\tm')\n",
    "print('\\tChord\\t', w_chord, '\\tm^2')\n",
    "\n",
    "print('\\n--> FUSELAGE')\n",
    "print('\\tVolume\\t', fus_volume, '\\tm^3')\n",
    "print('\\tSwet\\t', fus_S_wet, '\\tm^2')\n"
   ]
  },
  {
   "attachments": {},
   "cell_type": "markdown",
   "metadata": {},
   "source": [
    "- Input data for sizing process"
   ]
  },
  {
   "cell_type": "code",
   "execution_count": 13,
   "metadata": {},
   "outputs": [],
   "source": [
    "#---- INPUTS FOR TAILPLANE SIZING ----\n",
    "ht_V = 0.7\n",
    "ht_arm = 1.1\n",
    "ht_AR = 4\n",
    "ht_taper = 1\n",
    "\n",
    "vt_V = 0.05\n",
    "vt_arm = 1.1\n",
    "vt_AR = 2\n",
    "vt_taper = 1\n",
    "\n",
    "#---- INPUTS FOR PARASITIC DRAG ESTIMATION ----\n",
    "# airspeed at which CD0 is estimated\n",
    "V_drag = 15.0\n",
    "# laminar/turbulent surface ratio\n",
    "w_x_tr = 0.10\n",
    "ht_x_tr = 0.10\n",
    "vt_x_tr = 0.10\n",
    "fus_x_tr = 0.00\n",
    "# skin roughness\n",
    "skin_roughness = 0.634e-5 # [m], for smooth paint (Raymer)\n"
   ]
  },
  {
   "attachments": {},
   "cell_type": "markdown",
   "metadata": {},
   "source": [
    "- Tailplane sizing"
   ]
  },
  {
   "cell_type": "code",
   "execution_count": 14,
   "metadata": {},
   "outputs": [],
   "source": [
    "ht_sizing, vt_sizing = tailplane_sizing(\\\n",
    "    ht_V, ht_arm, ht_AR, ht_taper, \\\n",
    "    vt_V, vt_arm, vt_AR, vt_taper, \\\n",
    "    w_S, w_chord, w_span)\n",
    "\n",
    "ht_S, ht_span, ht_chord = ht_sizing\n",
    "vt_S, vt_span, vt_chord = vt_sizing\n",
    "\n",
    "del ht_sizing\n",
    "del vt_sizing"
   ]
  },
  {
   "attachments": {},
   "cell_type": "markdown",
   "metadata": {},
   "source": [
    "- Neutral point"
   ]
  },
  {
   "cell_type": "code",
   "execution_count": 15,
   "metadata": {},
   "outputs": [],
   "source": [
    "np_x = neutral_point(ht_arm, ht_S, ht_AR)"
   ]
  },
  {
   "attachments": {},
   "cell_type": "markdown",
   "metadata": {},
   "source": [
    "- Parasitic drag"
   ]
  },
  {
   "cell_type": "code",
   "execution_count": 16,
   "metadata": {},
   "outputs": [],
   "source": [
    "ht_dim = [ht_S, ht_span, ht_chord, ht_t_c, ht_x_c_max_t]\n",
    "vt_dim = [vt_S, vt_span, vt_chord, vt_t_c, vt_x_c_max_t]\n",
    "\n",
    "C_D_0 = parasitic_drag(\n",
    "    V_drag, skin_roughness, w_x_tr, ht_dim, ht_x_tr, \\\n",
    "    vt_dim, vt_x_tr, fus_S_wet, fus_x_tr)\n",
    "\n",
    "del ht_dim\n",
    "del vt_dim"
   ]
  },
  {
   "attachments": {},
   "cell_type": "markdown",
   "metadata": {},
   "source": [
    "- Flaps"
   ]
  },
  {
   "cell_type": "code",
   "execution_count": null,
   "metadata": {},
   "outputs": [],
   "source": []
  },
  {
   "attachments": {},
   "cell_type": "markdown",
   "metadata": {},
   "source": [
    "**Results**"
   ]
  },
  {
   "cell_type": "code",
   "execution_count": 17,
   "metadata": {},
   "outputs": [
    {
     "name": "stdout",
     "output_type": "stream",
     "text": [
      "--> HORIZONTAL STABILISER\n",
      "\tSurface\t 0.6681818181818181 \tm^2\n",
      "\tSpan\t 1.634847782739198 \tm\n",
      "\tChord\t 0.40871194568479957 \tm^2\n",
      "\n",
      "--> VERTICAL STABILISER\n",
      "\tSurface\t 0.40090909090909094 \tm^2\n",
      "\tSpan\t 0.8954430086935639 \tm\n",
      "\tChord\t 0.44772150434678193 \tm^2\n",
      "\n",
      "--> NEUTRAL POINT\n",
      "\tX_np\t 0.23869559176594596 \tm\n",
      "\t\t 47.73911835318919 \t% of wing chord\n",
      "\n",
      "--> PARASITIC DRAG\n",
      "\tC_D0\t 0.03063890936265904 \t-\n"
     ]
    }
   ],
   "source": [
    "print('--> HORIZONTAL STABILISER')\n",
    "print('\\tSurface\\t', ht_S, '\\tm^2')\n",
    "print('\\tSpan\\t', ht_span, '\\tm')\n",
    "print('\\tChord\\t', ht_chord, '\\tm^2')\n",
    "\n",
    "print('\\n--> VERTICAL STABILISER')\n",
    "print('\\tSurface\\t', vt_S, '\\tm^2')\n",
    "print('\\tSpan\\t', vt_span, '\\tm')\n",
    "print('\\tChord\\t', vt_chord, '\\tm^2')\n",
    "\n",
    "print('\\n--> NEUTRAL POINT')\n",
    "print('\\tX_np\\t', np_x, '\\tm')\n",
    "print('\\t\\t', np_x/w_chord*100, '\\t% of wing chord')\n",
    "\n",
    "\n",
    "print('\\n--> PARASITIC DRAG')\n",
    "print('\\tC_D0\\t', C_D_0, '\\t-')\n"
   ]
  },
  {
   "cell_type": "code",
   "execution_count": null,
   "metadata": {},
   "outputs": [],
   "source": []
  }
 ],
 "metadata": {
  "kernelspec": {
   "display_name": "Python 3",
   "language": "python",
   "name": "python3"
  },
  "language_info": {
   "codemirror_mode": {
    "name": "ipython",
    "version": 3
   },
   "file_extension": ".py",
   "mimetype": "text/x-python",
   "name": "python",
   "nbconvert_exporter": "python",
   "pygments_lexer": "ipython3",
   "version": "3.9.2"
  },
  "orig_nbformat": 4,
  "vscode": {
   "interpreter": {
    "hash": "949777d72b0d2535278d3dc13498b2535136f6dfe0678499012e853ee9abcab1"
   }
  }
 },
 "nbformat": 4,
 "nbformat_minor": 2
}
