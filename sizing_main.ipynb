{
 "cells": [
  {
   "attachments": {},
   "cell_type": "markdown",
   "metadata": {},
   "source": [
    "### Aerodynamics sizing process\n",
    "\n",
    "- Horizontal and vertical tailplane sizing\n",
    "- Flaps sizing\n",
    "- Ailerons sizing\n",
    "- Neutral point location\n",
    "- Parasitic drag coefficient $C_{D0}$"
   ]
  },
  {
   "cell_type": "code",
   "execution_count": 37,
   "metadata": {},
   "outputs": [],
   "source": [
    "import numpy as np\n",
    "import matplotlib.pyplot as plt"
   ]
  },
  {
   "cell_type": "code",
   "execution_count": 38,
   "metadata": {},
   "outputs": [],
   "source": [
    "from sizing_functions import *"
   ]
  },
  {
   "attachments": {},
   "cell_type": "markdown",
   "metadata": {},
   "source": [
    "- Input values summary\n",
    "\n",
    "(From `input.py` file)"
   ]
  },
  {
   "cell_type": "code",
   "execution_count": 39,
   "metadata": {},
   "outputs": [
    {
     "name": "stdout",
     "output_type": "stream",
     "text": [
      "--> WING\n",
      "\tSurface\t 2.1 \tm^2\n",
      "\tSpan\t 4.2 \tm\n",
      "\tChord\t 0.5 \tm^2\n",
      "\n",
      "--> FUSELAGE\n",
      "\tVolume\t 0.1 \tm^3\n",
      "\tSwet\t 1.6 \tm^2\n"
     ]
    }
   ],
   "source": [
    "print('--> WING')\n",
    "print('\\tSurface\\t', w_S, '\\tm^2')\n",
    "print('\\tSpan\\t', w_span, '\\tm')\n",
    "print('\\tChord\\t', w_chord, '\\tm^2')\n",
    "\n",
    "print('\\n--> FUSELAGE')\n",
    "print('\\tVolume\\t', fus_volume, '\\tm^3')\n",
    "print('\\tSwet\\t', fus_S_wet, '\\tm^2')\n"
   ]
  },
  {
   "attachments": {},
   "cell_type": "markdown",
   "metadata": {},
   "source": [
    "- Input data for sizing process"
   ]
  },
  {
   "cell_type": "code",
   "execution_count": 40,
   "metadata": {},
   "outputs": [],
   "source": [
    "#---- INPUTS FOR TAILPLANE SIZING ----\n",
    "ht_V = 0.6\n",
    "ht_arm = 1.0\n",
    "ht_AR = 5.8\n",
    "ht_taper = 1\n",
    "\n",
    "vt_V = 0.05\n",
    "vt_arm = 1.1\n",
    "vt_AR = 2\n",
    "vt_taper = 1\n",
    "\n",
    "#---- INPUTS FOR PARASITIC DRAG ESTIMATION ----\n",
    "# airspeed at which CD0 is estimated\n",
    "V_drag = 15.0\n",
    "# laminar/turbulent surface ratio\n",
    "w_x_tr = 0.10\n",
    "ht_x_tr = 0.10\n",
    "vt_x_tr = 0.10\n",
    "fus_x_tr = 0.00\n",
    "# propulsion configuration\n",
    "pusher = True\n",
    "\n",
    "#---- INPUTS FOR FLAPS SIZING ----\n",
    "# flaps chord/wing chord\n",
    "w_flaps_chord_ratio = 0.25\n",
    "w_flaps_Delta_C_l_max = 1.0\n",
    "\n",
    "#---- INPUTS FOR STABILITY ----\n",
    "static_margin = 0.10\n",
    "\n",
    "#---- INPUTS FOR CONTROL SURFACES SIZING ----\n",
    "# ailerons\n",
    "roll_helix_angle = 0.09 # roll manoeuvrabilty criteria [rad]\n",
    "ail_chord_ratio = 0.25\n",
    "ail_delta_max = 10\n",
    "ail_y_o = 0.9\n",
    "# elevator\n",
    "elev_chord_ratio = 0.4\n",
    "# rudder\n",
    "rud_chord_ratio = 0.45"
   ]
  },
  {
   "attachments": {},
   "cell_type": "markdown",
   "metadata": {},
   "source": [
    "- Tailplane sizing"
   ]
  },
  {
   "cell_type": "code",
   "execution_count": 41,
   "metadata": {},
   "outputs": [],
   "source": [
    "ht_sizing, vt_sizing = tailplane_sizing(\\\n",
    "    ht_V, ht_arm, ht_AR, ht_taper, \\\n",
    "    vt_V, vt_arm, vt_AR, vt_taper, \\\n",
    "    w_S, w_chord, w_span)\n",
    "\n",
    "ht_S, ht_span, ht_chord = ht_sizing\n",
    "vt_S, vt_span, vt_chord = vt_sizing\n",
    "\n",
    "del ht_sizing\n",
    "del vt_sizing"
   ]
  },
  {
   "attachments": {},
   "cell_type": "markdown",
   "metadata": {},
   "source": [
    "- Neutral point"
   ]
  },
  {
   "cell_type": "code",
   "execution_count": 42,
   "metadata": {},
   "outputs": [],
   "source": [
    "np_x = neutral_point(ht_arm, ht_S, ht_AR)"
   ]
  },
  {
   "attachments": {},
   "cell_type": "markdown",
   "metadata": {},
   "source": [
    "- Parasitic drag"
   ]
  },
  {
   "cell_type": "code",
   "execution_count": 43,
   "metadata": {},
   "outputs": [],
   "source": [
    "ht_dim = [ht_S, ht_span, ht_chord, ht_t_c, ht_x_c_max_t]\n",
    "vt_dim = [vt_S, vt_span, vt_chord, vt_t_c, vt_x_c_max_t]\n",
    "\n",
    "C_D_0 = parasitic_drag(\n",
    "    V_drag, w_x_tr, ht_dim, ht_x_tr, \\\n",
    "    vt_dim, vt_x_tr, fus_S_wet, fus_x_tr, pusher)\n",
    "\n",
    "del ht_dim\n",
    "del vt_dim"
   ]
  },
  {
   "attachments": {},
   "cell_type": "markdown",
   "metadata": {},
   "source": [
    "- Flaps"
   ]
  },
  {
   "cell_type": "code",
   "execution_count": 44,
   "metadata": {},
   "outputs": [],
   "source": [
    "w_flaps_span_stations = flaps_sizing(w_flaps_Delta_C_l_max)"
   ]
  },
  {
   "attachments": {},
   "cell_type": "markdown",
   "metadata": {},
   "source": [
    "- CG for target static margin"
   ]
  },
  {
   "cell_type": "code",
   "execution_count": 45,
   "metadata": {},
   "outputs": [],
   "source": [
    "cg_x = np_x - static_margin * w_chord"
   ]
  },
  {
   "cell_type": "markdown",
   "metadata": {},
   "source": [
    "- Aileron sizing"
   ]
  },
  {
   "cell_type": "code",
   "execution_count": 46,
   "metadata": {},
   "outputs": [],
   "source": [
    "ail_y_i = aileron_sizing(roll_helix_angle, np.deg2rad(ail_delta_max), ail_chord_ratio, y_o=ail_y_o)"
   ]
  },
  {
   "attachments": {},
   "cell_type": "markdown",
   "metadata": {},
   "source": [
    "**Results**"
   ]
  },
  {
   "cell_type": "code",
   "execution_count": 47,
   "metadata": {},
   "outputs": [
    {
     "name": "stdout",
     "output_type": "stream",
     "text": [
      "--> HORIZONTAL STABILISER\n",
      "\tSurface\t 0.63 \tm^2\n",
      "\tSpan\t 1.911543878648879 \tm\n",
      "\tChord\t 0.3295765308015308 \tm^2\n",
      "\n",
      "--> VERTICAL STABILISER\n",
      "\tSurface\t 0.40090909090909094 \tm^2\n",
      "\tSpan\t 0.8954430086935639 \tm\n",
      "\tChord\t 0.44772150434678193 \tm^2\n",
      "\n",
      "--> NEUTRAL POINT\n",
      "\tX_np\t 0.22842187787207444 \tm\n",
      "\t\t 45.68437557441489 \t% of wing chord\n",
      "\n",
      "--> CG\n",
      "\tX_cg\t 0.17842187787207442 \tm\n",
      "\t\t 35.68437557441489 \t% of wing chord\n",
      "\n",
      "--> PARASITIC DRAG\n",
      "\tC_D0\t 0.030291747380194755 \t-\n",
      "\n",
      "--> FLAPS\n",
      "\ty_in\t 0.126000000000000 \tm\n",
      "\ty_in\t 6.000000000000000 \t% of wing span\n",
      "\ty_out\t 1.0360000000000003 \tm\n",
      "\ty_out\t 49.33333333333334 \t% of wing span\n",
      "\n",
      "--> AILERONS\n",
      "\ty_in\t 1.119962977774728 \tm\n",
      "\ty_in\t 53.331570370225158 \t% of wing span\n",
      "\ty_out\t 1.8900000000000001 \tm\n",
      "\ty_out\t 90.000000000000000 \t% of wing span\n"
     ]
    }
   ],
   "source": [
    "print('--> HORIZONTAL STABILISER')\n",
    "print('\\tSurface\\t', ht_S, '\\tm^2')\n",
    "print('\\tSpan\\t', ht_span, '\\tm')\n",
    "print('\\tChord\\t', ht_chord, '\\tm^2')\n",
    "\n",
    "print('\\n--> VERTICAL STABILISER')\n",
    "print('\\tSurface\\t', vt_S, '\\tm^2')\n",
    "print('\\tSpan\\t', vt_span, '\\tm')\n",
    "print('\\tChord\\t', vt_chord, '\\tm^2')\n",
    "\n",
    "print('\\n--> NEUTRAL POINT')\n",
    "print('\\tX_np\\t', np_x, '\\tm')\n",
    "print('\\t\\t', np_x/w_chord*100, '\\t% of wing chord')\n",
    "\n",
    "print('\\n--> CG')\n",
    "print('\\tX_cg\\t', cg_x, '\\tm')\n",
    "print('\\t\\t', cg_x/w_chord*100, '\\t% of wing chord')\n",
    "\n",
    "print('\\n--> PARASITIC DRAG')\n",
    "print('\\tC_D0\\t', C_D_0, '\\t-')\n",
    "\n",
    "print('\\n--> FLAPS')\n",
    "print('\\ty_in\\t', '{:.15f}'.format(w_flaps_span_stations[0]*w_span/2), '\\tm')\n",
    "print('\\ty_in\\t', '{:.15f}'.format(w_flaps_span_stations[0]*100), '\\t% of wing span')\n",
    "print('\\ty_out\\t', w_flaps_span_stations[1]*w_span/2, '\\tm')\n",
    "print('\\ty_out\\t', w_flaps_span_stations[1]*100, '\\t% of wing span')\n",
    "\n",
    "print('\\n--> AILERONS')\n",
    "print('\\ty_in\\t', '{:.15f}'.format(ail_y_i*w_span/2), '\\tm')\n",
    "print('\\ty_in\\t', '{:.15f}'.format(ail_y_i*100), '\\t% of wing span')\n",
    "print('\\ty_out\\t', ail_y_o*w_span/2, '\\tm')\n",
    "print('\\ty_out\\t', '{:.15f}'.format(ail_y_o*100), '\\t% of wing span')\n"
   ]
  },
  {
   "attachments": {},
   "cell_type": "markdown",
   "metadata": {},
   "source": [
    "**Plots**"
   ]
  },
  {
   "cell_type": "code",
   "execution_count": 48,
   "metadata": {},
   "outputs": [
    {
     "data": {
      "image/png": "[encoded data removed]",
      "text/plain": [
       "<Figure size 864x576 with 1 Axes>"
      ]
     },
     "metadata": {
      "needs_background": "light"
     },
     "output_type": "display_data"
    }
   ],
   "source": [
    "def plot_wing()->None:\n",
    "    x_wing = [-w_span/2, w_span/2, w_span/2, -w_span/2, -w_span/2]\n",
    "    y_wing = [0, 0, w_chord, w_chord, 0]\n",
    "\n",
    "    plt.plot(x_wing, y_wing, 'b-', label='Wing')\n",
    "\n",
    "def plot_flaps()->None:\n",
    "    x_flaps = [fus_width/2, w_span/2*w_flaps_span_stations[1], \\\n",
    "        w_span/2*w_flaps_span_stations[1], fus_width/2, fus_width/2]\n",
    "    y_flaps = [w_chord, w_chord, (1-w_flaps_chord_ratio)*w_chord, (1-w_flaps_chord_ratio)*w_chord, w_chord]\n",
    "\n",
    "    plt.plot(x_flaps, y_flaps, 'r--', label='Flaps')\n",
    "    plt.plot([-x for x in x_flaps], y_flaps, 'r--')\n",
    "\n",
    "def plot_ht()->None:\n",
    "    x_ht = [-ht_span/2, ht_span/2, ht_span/2, -ht_span/2, -ht_span/2]\n",
    "\n",
    "    y_LE_ht = 0.25*w_chord + ht_arm - 0.25*ht_chord\n",
    "    y_ht = [y_LE_ht, y_LE_ht, y_LE_ht+ht_chord, y_LE_ht+ht_chord, y_LE_ht]\n",
    "\n",
    "    plt.plot(x_ht, y_ht, 'g-', label='Horizontal stab')\n",
    "\n",
    "def plot_np(np_x:float)->None:\n",
    "    plt.plot(0, np_x, 'r+', markersize=10, label='Neutral point')\n",
    "\n",
    "def plot_cg(cg_x: float)->None:\n",
    "    plt.plot(0, cg_x, 'b+', markersize=10, label='CG')\n",
    "\n",
    "def plot_fuselage()->None:\n",
    "    x_fus = [fus_width/2, fus_width/2, -fus_width/2, -fus_width/2, fus_width/2]\n",
    "\n",
    "    y_aft = y_LE_ht = 0.25*w_chord + ht_arm + 0.75*ht_chord\n",
    "    y_fus = [y_aft, y_aft-fus_length, y_aft-fus_length, y_aft, y_aft]\n",
    "\n",
    "    plt. plot(x_fus, y_fus, 'k-', label='Fuselage')\n",
    "\n",
    "def plot_ailerons(y_i, y_o, ail_chord_ratio)->None:\n",
    "    x_ail = [w_span/2*y for y in [y_i, y_o, y_o, y_i, y_i]]\n",
    "\n",
    "    y_ail = [0, 0, -ail_chord_ratio*w_chord, -ail_chord_ratio*w_chord, 0]\n",
    "    # translate to wing trailing edge\n",
    "    y_ail = [w_chord+x for x in y_ail]\n",
    "\n",
    "    plt.plot(x_ail, y_ail, 'b--', label='Ailerons')\n",
    "    plt.plot([-x for x in x_ail], y_ail, 'b--')\n",
    "\n",
    "def plot_elevator()->None:\n",
    "    x_e = [-ht_span/2, ht_span/2, ht_span/2, -ht_span/2, -ht_span/2]\n",
    "\n",
    "    y_TE_e = 0.25*w_chord + ht_arm + 0.75*ht_chord\n",
    "    y_e = [0, 0, -ht_chord*elev_chord_ratio, -ht_chord*elev_chord_ratio, 0]\n",
    "    # translate to elevator leading edge\n",
    "    y_e = [y_TE_e+y for y in y_e]\n",
    "\n",
    "    plt.plot(x_e, y_e, 'g--', label='Elevator')\n",
    "\n",
    "\n",
    "fig = plt.figure(figsize=(12,8))\n",
    "fig.gca().set_title('Conceptual design layout', fontsize=20)\n",
    "plot_flaps()\n",
    "plot_ailerons(ail_y_i, ail_y_o, ail_chord_ratio)\n",
    "plot_elevator()\n",
    "plot_fuselage()\n",
    "plot_wing()\n",
    "plot_ht()\n",
    "plot_np(np_x)\n",
    "plot_cg(cg_x)\n",
    "plt.axis('equal')\n",
    "plt.gca().invert_yaxis()\n",
    "plt.legend()\n",
    "plt.show()"
   ]
  },
  {
   "cell_type": "code",
   "execution_count": null,
   "metadata": {},
   "outputs": [],
   "source": []
  }
 ],
 "metadata": {
  "kernelspec": {
   "display_name": "Python 3",
   "language": "python",
   "name": "python3"
  },
  "language_info": {
   "codemirror_mode": {
    "name": "ipython",
    "version": 3
   },
   "file_extension": ".py",
   "mimetype": "text/x-python",
   "name": "python",
   "nbconvert_exporter": "python",
   "pygments_lexer": "ipython3",
   "version": "3.9.2"
  },
  "orig_nbformat": 4,
  "vscode": {
   "interpreter": {
    "hash": "949777d72b0d2535278d3dc13498b2535136f6dfe0678499012e853ee9abcab1"
   }
  }
 },
 "nbformat": 4,
 "nbformat_minor": 2
}
