{
 "cells": [
  {
   "attachments": {},
   "cell_type": "markdown",
   "metadata": {},
   "source": [
    "**Basic sizing process**"
   ]
  },
  {
   "cell_type": "code",
   "execution_count": 24,
   "metadata": {},
   "outputs": [],
   "source": [
    "import numpy as np\n",
    "import matplotlib.pyplot as plt"
   ]
  },
  {
   "cell_type": "code",
   "execution_count": 25,
   "metadata": {},
   "outputs": [],
   "source": [
    "from sizing_functions import *"
   ]
  },
  {
   "attachments": {},
   "cell_type": "markdown",
   "metadata": {},
   "source": [
    "- Input values summary\n",
    "\n",
    "(From `input.py` file)"
   ]
  },
  {
   "cell_type": "code",
   "execution_count": 26,
   "metadata": {},
   "outputs": [
    {
     "name": "stdout",
     "output_type": "stream",
     "text": [
      "--> WING\n",
      "\tSurface\t 2.1 \tm^2\n",
      "\tSpan\t 4.2 \tm\n",
      "\tChord\t 0.5 \tm^2\n",
      "\n",
      "--> FUSELAGE\n",
      "\tVolume\t 0 \tm^3\n",
      "\tSwet\t 0 \tm^2\n"
     ]
    }
   ],
   "source": [
    "print('--> WING')\n",
    "print('\\tSurface\\t', w_S, '\\tm^2')\n",
    "print('\\tSpan\\t', w_span, '\\tm')\n",
    "print('\\tChord\\t', w_chord, '\\tm^2')\n",
    "\n",
    "print('\\n--> FUSELAGE')\n",
    "print('\\tVolume\\t', fus_volume, '\\tm^3')\n",
    "print('\\tSwet\\t', fus_S_wet, '\\tm^2')\n"
   ]
  },
  {
   "attachments": {},
   "cell_type": "markdown",
   "metadata": {},
   "source": [
    "- Input data for sizing process"
   ]
  },
  {
   "cell_type": "code",
   "execution_count": 27,
   "metadata": {},
   "outputs": [],
   "source": [
    "#---- TAILPLANE ----\n",
    "ht_V = 0.7\n",
    "ht_arm = 1.1\n",
    "ht_AR = 4\n",
    "ht_taper = 1\n",
    "\n",
    "vt_V = 0.05\n",
    "vt_arm = 1.1\n",
    "vt_AR = 2\n",
    "vt_taper = 1"
   ]
  },
  {
   "attachments": {},
   "cell_type": "markdown",
   "metadata": {},
   "source": [
    "- Tailplane sizing"
   ]
  },
  {
   "cell_type": "code",
   "execution_count": 29,
   "metadata": {},
   "outputs": [],
   "source": [
    "ht_dim, vt_dim = tailplane_sizing(\\\n",
    "    ht_V, ht_arm, ht_AR, ht_taper, \\\n",
    "    vt_V, vt_arm, vt_AR, vt_taper, \\\n",
    "    w_S, w_chord, w_span)\n",
    "\n",
    "ht_S, ht_span, ht_chord = ht_dim\n",
    "vt_S, vt_span, vt_chord = vt_dim"
   ]
  },
  {
   "attachments": {},
   "cell_type": "markdown",
   "metadata": {},
   "source": [
    "- Neutral point"
   ]
  },
  {
   "attachments": {},
   "cell_type": "markdown",
   "metadata": {},
   "source": [
    "- Parasitic drag"
   ]
  },
  {
   "attachments": {},
   "cell_type": "markdown",
   "metadata": {},
   "source": [
    "- Flaps"
   ]
  }
 ],
 "metadata": {
  "kernelspec": {
   "display_name": "Python 3",
   "language": "python",
   "name": "python3"
  },
  "language_info": {
   "codemirror_mode": {
    "name": "ipython",
    "version": 3
   },
   "file_extension": ".py",
   "mimetype": "text/x-python",
   "name": "python",
   "nbconvert_exporter": "python",
   "pygments_lexer": "ipython3",
   "version": "3.9.2"
  },
  "orig_nbformat": 4,
  "vscode": {
   "interpreter": {
    "hash": "949777d72b0d2535278d3dc13498b2535136f6dfe0678499012e853ee9abcab1"
   }
  }
 },
 "nbformat": 4,
 "nbformat_minor": 2
}
