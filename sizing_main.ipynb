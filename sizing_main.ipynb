{
 "cells": [
  {
   "attachments": {},
   "cell_type": "markdown",
   "metadata": {},
   "source": [
    "### Aerodynamics sizing process\n",
    "\n",
    "- Horizontal and vertical tailplane sizing\n",
    "- Flaps sizing\n",
    "- Ailerons sizing\n",
    "- Neutral point location\n",
    "- Parasitic drag coefficient $C_{D0}$\n",
    "- Landing gear geometry analysis"
   ]
  },
  {
   "cell_type": "code",
   "execution_count": 111,
   "metadata": {},
   "outputs": [],
   "source": [
    "import numpy as np\n",
    "import matplotlib.pyplot as plt"
   ]
  },
  {
   "cell_type": "code",
   "execution_count": 112,
   "metadata": {},
   "outputs": [],
   "source": [
    "from sizing_functions import *"
   ]
  },
  {
   "attachments": {},
   "cell_type": "markdown",
   "metadata": {},
   "source": [
    "- INPUT DATA FOR SIZING AND ANALYSIS"
   ]
  },
  {
   "cell_type": "code",
   "execution_count": 113,
   "metadata": {},
   "outputs": [],
   "source": [
    "#---- INPUTS FOR TAILPLANE SIZING ----\n",
    "ht_V = 0.6\n",
    "ht_arm = 1.0\n",
    "ht_AR = 5.8\n",
    "ht_taper = 1\n",
    "\n",
    "vt_V = 0.05\n",
    "vt_arm = 1.0\n",
    "vt_AR = 2\n",
    "vt_taper = 1\n",
    "\n",
    "#---- INPUTS FOR PARASITIC DRAG ESTIMATION ----\n",
    "# airspeed at which CD0 is estimated\n",
    "V_drag = 15.0\n",
    "# laminar/turbulent surface ratio\n",
    "w_x_tr = 0.10\n",
    "ht_x_tr = 0.10\n",
    "vt_x_tr = 0.10\n",
    "fus_x_tr = 0.00\n",
    "# propulsion configuration\n",
    "pusher = True\n",
    "\n",
    "#---- INPUTS FOR FLAPS SIZING ----\n",
    "# flaps chord/wing chord\n",
    "w_flaps_chord_ratio = 0.25\n",
    "w_flaps_Delta_C_l_max = 1.0\n",
    "\n",
    "#---- INPUTS FOR STABILITY ----\n",
    "static_margin = 0.10\n",
    "\n",
    "#---- INPUTS FOR CONTROL SURFACES SIZING ----\n",
    "# ailerons\n",
    "roll_helix_angle = 0.09 # roll manoeuvrabilty criteria [rad]\n",
    "ail_chord_ratio = 0.25\n",
    "ail_delta_max = 10\n",
    "ail_y_o = 0.9\n",
    "# elevator\n",
    "elev_chord_ratio = 0.4\n",
    "# rudder\n",
    "rud_chord_ratio = 0.45\n",
    "\n",
    "#---- INPUTS FOR LANDING GEAR ANALYSIS ----\n",
    "lg_height = 0.25\n",
    "lg_nose_x = -1.0\n",
    "lg_main_x = 0.3\n",
    "lg_track = 0.75 # MLG wheel to wheel distance\n",
    "tailstrike_margin = 0.5 # vertical margin preventing tailstrike"
   ]
  },
  {
   "attachments": {},
   "cell_type": "markdown",
   "metadata": {},
   "source": [
    "- Input values summary\n",
    "\n",
    "(From `input.py` file)"
   ]
  },
  {
   "cell_type": "code",
   "execution_count": 114,
   "metadata": {},
   "outputs": [
    {
     "name": "stdout",
     "output_type": "stream",
     "text": [
      "--> WING\n",
      "\tSurface\t 2.1 \tm^2\n",
      "\tSpan\t 4.2 \tm\n",
      "\tChord\t 0.5 \tm^2\n",
      "\n",
      "--> FUSELAGE\n",
      "\tVolume\t 0.158314328928 \tm^3\n",
      "\tSwet\t 2.6376567840000003 \tm^2\n"
     ]
    }
   ],
   "source": [
    "print('--> WING')\n",
    "print('\\tSurface\\t', w_S, '\\tm^2')\n",
    "print('\\tSpan\\t', w_span, '\\tm')\n",
    "print('\\tChord\\t', w_chord, '\\tm^2')\n",
    "\n",
    "print('\\n--> FUSELAGE')\n",
    "print('\\tVolume\\t', fus_volume, '\\tm^3')\n",
    "print('\\tSwet\\t', fus_S_wet, '\\tm^2')"
   ]
  },
  {
   "attachments": {},
   "cell_type": "markdown",
   "metadata": {},
   "source": [
    "- Tailplane sizing"
   ]
  },
  {
   "cell_type": "code",
   "execution_count": 115,
   "metadata": {},
   "outputs": [],
   "source": [
    "ht_sizing, vt_sizing = tailplane_sizing(\\\n",
    "    ht_V, ht_arm, ht_AR, ht_taper, \\\n",
    "    vt_V, vt_arm, vt_AR, vt_taper, \\\n",
    "    w_S, w_chord, w_span)\n",
    "\n",
    "ht_S, ht_span, ht_chord = ht_sizing\n",
    "vt_S, vt_span, vt_chord = vt_sizing\n",
    "\n",
    "del ht_sizing\n",
    "del vt_sizing"
   ]
  },
  {
   "attachments": {},
   "cell_type": "markdown",
   "metadata": {},
   "source": [
    "- Neutral point"
   ]
  },
  {
   "cell_type": "code",
   "execution_count": 116,
   "metadata": {},
   "outputs": [],
   "source": [
    "np_x = neutral_point(ht_arm, ht_S, ht_AR)"
   ]
  },
  {
   "attachments": {},
   "cell_type": "markdown",
   "metadata": {},
   "source": [
    "- Parasitic drag"
   ]
  },
  {
   "cell_type": "code",
   "execution_count": 117,
   "metadata": {},
   "outputs": [],
   "source": [
    "ht_dim = [ht_S, ht_span, ht_chord, ht_t_c, ht_x_c_max_t]\n",
    "vt_dim = [vt_S, vt_span, vt_chord, vt_t_c, vt_x_c_max_t]\n",
    "\n",
    "C_D_0 = parasitic_drag(\n",
    "    V_drag, w_x_tr, ht_dim, ht_x_tr, \\\n",
    "    vt_dim, vt_x_tr, fus_S_wet, fus_x_tr, lg_height, lg_track, \\\n",
    "    pusher)\n",
    "\n",
    "del ht_dim\n",
    "del vt_dim"
   ]
  },
  {
   "attachments": {},
   "cell_type": "markdown",
   "metadata": {},
   "source": [
    "- Flaps"
   ]
  },
  {
   "cell_type": "code",
   "execution_count": 118,
   "metadata": {},
   "outputs": [],
   "source": [
    "w_flaps_span_stations = flaps_sizing(w_flaps_Delta_C_l_max)"
   ]
  },
  {
   "attachments": {},
   "cell_type": "markdown",
   "metadata": {},
   "source": [
    "- CG for target static margin"
   ]
  },
  {
   "cell_type": "code",
   "execution_count": 119,
   "metadata": {},
   "outputs": [],
   "source": [
    "cg_x = np_x - static_margin * w_chord"
   ]
  },
  {
   "cell_type": "markdown",
   "metadata": {},
   "source": [
    "- Aileron sizing"
   ]
  },
  {
   "cell_type": "code",
   "execution_count": 120,
   "metadata": {},
   "outputs": [],
   "source": [
    "ail_y_i = aileron_sizing(roll_helix_angle, np.deg2rad(ail_delta_max), ail_chord_ratio, y_o=ail_y_o)"
   ]
  },
  {
   "attachments": {},
   "cell_type": "markdown",
   "metadata": {},
   "source": [
    "- Landing gear analysis"
   ]
  },
  {
   "cell_type": "code",
   "execution_count": 121,
   "metadata": {},
   "outputs": [],
   "source": [
    "# fuselage tail longitudinal location\n",
    "fus_aft_x = 0.25*w_chord + max(ht_arm + 0.75*ht_chord, vt_arm + 0.75*vt_chord)\n",
    "\n",
    "lg_analysis = landing_gear_analysis(lg_main_x, lg_nose_x, lg_track, lg_height, tailstrike_margin, cg_x, fus_aft_x)\n",
    "overturn_angle, nlg_weight_fraction, tipback_limit = lg_analysis\n",
    "\n",
    "del fus_aft_x\n",
    "del lg_analysis"
   ]
  },
  {
   "attachments": {},
   "cell_type": "markdown",
   "metadata": {},
   "source": [
    "**Results**"
   ]
  },
  {
   "cell_type": "code",
   "execution_count": 122,
   "metadata": {},
   "outputs": [
    {
     "name": "stdout",
     "output_type": "stream",
     "text": [
      "--> HORIZONTAL STABILISER\n",
      "\tSurface\t 0.63 \tm^2\n",
      "\tSpan\t 1.911543878648879 \tm\n",
      "\tChord\t 0.3295765308015308 \tm^2\n",
      "\n",
      "--> VERTICAL STABILISER\n",
      "\tSurface\t 0.44100000000000006 \tm^2\n",
      "\tSpan\t 0.9391485505499118 \tm\n",
      "\tChord\t 0.4695742752749559 \tm^2\n",
      "\n",
      "--> NEUTRAL POINT\n",
      "\tX_np\t 0.2179167777535191 \tm\n",
      "\t\t 43.583355550703814 \t% of wing chord\n",
      "\n",
      "--> CG\n",
      "\tX_cg\t 0.1679167777535191 \tm\n",
      "\t\t 33.58335555070382 \t% of wing chord\n",
      "\n",
      "--> PARASITIC DRAG\n",
      "\tC_D0\t 0.03325488687053612 \t-\n",
      "\n",
      "--> FLAPS\n",
      "\ty_in\t 0.126000000000000 \tm\n",
      "\ty_in\t 6.000000000000000 \t% of wing span\n",
      "\ty_out\t 1.0360000000000003 \tm\n",
      "\ty_out\t 49.33333333333334 \t% of wing span\n",
      "\n",
      "--> AILERONS\n",
      "\ty_in\t 1.119962977774728 \tm\n",
      "\ty_in\t 53.331570370225158 \t% of wing span\n",
      "\ty_out\t 1.8900000000000001 \tm\n",
      "\ty_out\t 90.000000000000000 \t% of wing span\n",
      "\n",
      "--> LANDING GEAR\n",
      "\tFnlg_W\t 10.160247865113913 \t% \tNLG weight fraction\n",
      "\ttheta\t 57.185192395617747 \tdeg \tOverturn angle\n",
      "\ttipback\t 17.098869125652602 \tdeg \tMax limit tipback angle\n"
     ]
    }
   ],
   "source": [
    "print('--> HORIZONTAL STABILISER')\n",
    "print('\\tSurface\\t', ht_S, '\\tm^2')\n",
    "print('\\tSpan\\t', ht_span, '\\tm')\n",
    "print('\\tChord\\t', ht_chord, '\\tm^2')\n",
    "\n",
    "print('\\n--> VERTICAL STABILISER')\n",
    "print('\\tSurface\\t', vt_S, '\\tm^2')\n",
    "print('\\tSpan\\t', vt_span, '\\tm')\n",
    "print('\\tChord\\t', vt_chord, '\\tm^2')\n",
    "\n",
    "print('\\n--> NEUTRAL POINT')\n",
    "print('\\tX_np\\t', np_x, '\\tm')\n",
    "print('\\t\\t', np_x/w_chord*100, '\\t% of wing chord')\n",
    "\n",
    "print('\\n--> CG')\n",
    "print('\\tX_cg\\t', cg_x, '\\tm')\n",
    "print('\\t\\t', cg_x/w_chord*100, '\\t% of wing chord')\n",
    "\n",
    "print('\\n--> PARASITIC DRAG')\n",
    "print('\\tC_D0\\t', C_D_0, '\\t-')\n",
    "\n",
    "print('\\n--> FLAPS')\n",
    "print('\\ty_in\\t', '{:.15f}'.format(w_flaps_span_stations[0]*w_span/2), '\\tm')\n",
    "print('\\ty_in\\t', '{:.15f}'.format(w_flaps_span_stations[0]*100), '\\t% of wing span')\n",
    "print('\\ty_out\\t', w_flaps_span_stations[1]*w_span/2, '\\tm')\n",
    "print('\\ty_out\\t', w_flaps_span_stations[1]*100, '\\t% of wing span')\n",
    "\n",
    "print('\\n--> AILERONS')\n",
    "print('\\ty_in\\t', '{:.15f}'.format(ail_y_i*w_span/2), '\\tm')\n",
    "print('\\ty_in\\t', '{:.15f}'.format(ail_y_i*100), '\\t% of wing span')\n",
    "print('\\ty_out\\t', ail_y_o*w_span/2, '\\tm')\n",
    "print('\\ty_out\\t', '{:.15f}'.format(ail_y_o*100), '\\t% of wing span')\n",
    "\n",
    "print('\\n--> LANDING GEAR')\n",
    "print('\\tFnlg_W\\t', '{:.15f}'.format(100*nlg_weight_fraction), '\\t%', '\\tNLG weight fraction')\n",
    "print('\\ttheta\\t', '{:.15f}'.format(np.rad2deg(overturn_angle)), '\\tdeg', '\\tOverturn angle')\n",
    "print('\\ttipback\\t', '{:.15f}'.format(np.rad2deg(tipback_limit)), '\\tdeg', '\\tMax limit tipback angle')\n"
   ]
  },
  {
   "attachments": {},
   "cell_type": "markdown",
   "metadata": {},
   "source": [
    "**Plots**"
   ]
  },
  {
   "cell_type": "code",
   "execution_count": 123,
   "metadata": {},
   "outputs": [
    {
     "data": {
      "image/png": "[encoded data removed]",
      "text/plain": [
       "<Figure size 960x640 with 1 Axes>"
      ]
     },
     "metadata": {
      "needs_background": "light"
     },
     "output_type": "display_data"
    }
   ],
   "source": [
    "def plot_wing_top()->None:\n",
    "    x_wing = [-w_span/2, w_span/2, w_span/2, -w_span/2, -w_span/2]\n",
    "    y_wing = [0, 0, w_chord, w_chord, 0]\n",
    "\n",
    "    plt.plot(x_wing, y_wing, 'b-', label='Wing')\n",
    "\n",
    "def plot_flaps_top()->None:\n",
    "    x_flaps = [fus_width/2, w_span/2*w_flaps_span_stations[1], \\\n",
    "        w_span/2*w_flaps_span_stations[1], fus_width/2, fus_width/2]\n",
    "    y_flaps = [w_chord, w_chord, (1-w_flaps_chord_ratio)*w_chord, (1-w_flaps_chord_ratio)*w_chord, w_chord]\n",
    "\n",
    "    plt.plot(x_flaps, y_flaps, 'r--', label='Flaps')\n",
    "    plt.plot([-x for x in x_flaps], y_flaps, 'r--')\n",
    "\n",
    "def plot_ht_top()->None:\n",
    "    x_ht = [-ht_span/2, ht_span/2, ht_span/2, -ht_span/2, -ht_span/2]\n",
    "\n",
    "    y_LE_ht = 0.25*w_chord + ht_arm - 0.25*ht_chord\n",
    "    y_ht = [y_LE_ht, y_LE_ht, y_LE_ht+ht_chord, y_LE_ht+ht_chord, y_LE_ht]\n",
    "\n",
    "    plt.plot(x_ht, y_ht, 'g-', label='Horizontal stab')\n",
    "\n",
    "def plot_vt_top()->None:\n",
    "    x_vt = vt_chord*vt_t_c * np.array([-1/2, 1/2, 1/2, -1/2, -1/2])\n",
    "    y_LE_vt = 0.25*w_chord + vt_arm - 0.25*vt_chord\n",
    "    y_vt = [y_LE_vt, y_LE_vt, y_LE_vt+vt_chord, y_LE_vt+vt_chord, y_LE_vt]\n",
    "\n",
    "    plt.plot(x_vt, y_vt, 'g-', label='Vertical Stab')\n",
    "\n",
    "\n",
    "def plot_np_top(np_x:float)->None:\n",
    "    plt.plot(0, np_x, 'r+', markersize=10, label='Neutral point')\n",
    "\n",
    "def plot_cg_top(cg_x: float)->None:\n",
    "    plt.plot(0, cg_x, 'b+', markersize=10, label='CG')\n",
    "\n",
    "def plot_fuselage_top()->None:\n",
    "    x_fus = [fus_width/2, fus_width/2, -fus_width/2, -fus_width/2, fus_width/2]\n",
    "\n",
    "    y_aft = 0.25*w_chord + max(ht_arm + 0.75*ht_chord, vt_arm + 0.75*vt_chord)\n",
    "    y_fus = [y_aft, y_aft-fus_length, y_aft-fus_length, y_aft, y_aft]\n",
    "\n",
    "    plt. plot(x_fus, y_fus, 'k--', linewidth='1', label='Fuselage')\n",
    "\n",
    "def plot_ailerons_top(y_i, y_o, ail_chord_ratio)->None:\n",
    "    x_ail = [w_span/2*y for y in [y_i, y_o, y_o, y_i, y_i]]\n",
    "\n",
    "    y_ail = [0, 0, -ail_chord_ratio*w_chord, -ail_chord_ratio*w_chord, 0]\n",
    "    # translate to wing trailing edge\n",
    "    y_ail = [w_chord+x for x in y_ail]\n",
    "\n",
    "    plt.plot(x_ail, y_ail, 'b--', label='Ailerons')\n",
    "    plt.plot([-x for x in x_ail], y_ail, 'b--')\n",
    "\n",
    "def plot_elevator_top()->None:\n",
    "    x_e = [-ht_span/2, ht_span/2, ht_span/2, -ht_span/2, -ht_span/2]\n",
    "\n",
    "    y_TE_e = 0.25*w_chord + ht_arm + 0.75*ht_chord\n",
    "    y_e = [0, 0, -ht_chord*elev_chord_ratio, -ht_chord*elev_chord_ratio, 0]\n",
    "    # translate to elevator leading edge\n",
    "    y_e = [y_TE_e+y for y in y_e]\n",
    "\n",
    "    plt.plot(x_e, y_e, 'g--', label='Elevator')\n",
    "\n",
    "def plot_landing_gear_top()->None:\n",
    "    # Nose Landing Gear\n",
    "    nosewheel_X = [ \\\n",
    "        lg_wheel_thickness/2, lg_wheel_thickness/2, \\\n",
    "        -lg_wheel_thickness/2, -lg_wheel_thickness/2, \\\n",
    "        lg_wheel_thickness/2]\n",
    "    nosewheel_Y = [ \\\n",
    "        lg_nose_x - lg_wheel_diam/2, lg_nose_x + lg_wheel_diam/2, \\\n",
    "        lg_nose_x + lg_wheel_diam/2, lg_nose_x - lg_wheel_diam/2, \\\n",
    "        lg_nose_x - lg_wheel_diam/2\n",
    "        ]\n",
    "    plt.plot(nosewheel_X, nosewheel_Y, 'm-', label='Landing gear')\n",
    "\n",
    "    # Main Landing Gear\n",
    "    mainwheel_X = [ \\\n",
    "    lg_wheel_thickness/2, lg_wheel_thickness/2, \\\n",
    "    -lg_wheel_thickness/2, -lg_wheel_thickness/2, \\\n",
    "    lg_wheel_thickness/2]\n",
    "    mainwheel_X_right = [x + lg_track/2 for x in mainwheel_X]\n",
    "    mainwheel_X_left = [x - lg_track/2 for x in mainwheel_X]\n",
    "\n",
    "    mainwheel_Y = [ \\\n",
    "    lg_main_x - lg_wheel_diam/2, lg_main_x + lg_wheel_diam/2, \\\n",
    "    lg_main_x + lg_wheel_diam/2, lg_main_x - lg_wheel_diam/2, \\\n",
    "    lg_main_x - lg_wheel_diam/2\n",
    "    ]\n",
    "\n",
    "    plt.plot(mainwheel_X_right, mainwheel_Y, 'm-')\n",
    "    plt.plot(mainwheel_X_left, mainwheel_Y, 'm-')\n",
    "\n",
    "def plot_propeller_top()->None:\n",
    "    y_prop = 0.25*w_chord + max(ht_arm + 0.75*ht_chord, vt_arm + 0.75*vt_chord)\n",
    "    x_prop = [-prop_diameter/2, prop_diameter/2]\n",
    "    plt.plot(x_prop, [y_prop, y_prop], 'r--', label='Propeller')\n",
    "\n",
    "\n",
    "fig = plt.figure(figsize=(12,8), dpi=80)\n",
    "fig.gca().set_title('Conceptual design layout\\nTop View', fontsize=20)\n",
    "plot_flaps_top()\n",
    "plot_ailerons_top(ail_y_i, ail_y_o, ail_chord_ratio)\n",
    "plot_elevator_top()\n",
    "plot_fuselage_top()\n",
    "plot_wing_top()\n",
    "plot_ht_top()\n",
    "plot_propeller_top()\n",
    "plot_vt_top()\n",
    "plot_np_top(np_x)\n",
    "plot_cg_top(cg_x)\n",
    "plot_landing_gear_top()\n",
    "plt.axis('equal')\n",
    "plt.gca().invert_yaxis()\n",
    "plt.legend()\n",
    "plt.show()"
   ]
  },
  {
   "cell_type": "code",
   "execution_count": null,
   "metadata": {},
   "outputs": [],
   "source": []
  },
  {
   "cell_type": "code",
   "execution_count": 124,
   "metadata": {},
   "outputs": [
    {
     "data": {
      "image/png": "[encoded data removed]",
      "text/plain": [
       "<Figure size 960x640 with 1 Axes>"
      ]
     },
     "metadata": {
      "needs_background": "light"
     },
     "output_type": "display_data"
    }
   ],
   "source": [
    "def plot_wing_side()->None:\n",
    "    x_wing = [0, 0, w_chord, w_chord, 0]\n",
    "    y_wing = [0, -w_t_c*w_chord, -w_t_c*w_chord, 0, 0]\n",
    "\n",
    "    plt.plot(x_wing, y_wing, 'b-', label='Wing')\n",
    "\n",
    "def plot_ht_side()->None:\n",
    "    y_ht = [0, -ht_t_c*ht_chord, -ht_t_c*ht_chord, 0, 0]\n",
    "\n",
    "    x_LE_ht = 0.25*w_chord + ht_arm - 0.25*ht_chord\n",
    "    x_ht = [x_LE_ht, x_LE_ht, x_LE_ht+ht_chord, x_LE_ht+ht_chord, x_LE_ht]\n",
    "\n",
    "    plt.plot(x_ht, y_ht, 'g-', label='Horizontal stab')\n",
    "\n",
    "def plot_vt_side()->None:\n",
    "    y_vt = [0, vt_span, vt_span, 0, 0]\n",
    "\n",
    "    x_LE_vt = 0.25*w_chord + vt_arm - 0.25*vt_chord\n",
    "    x_vt = [x_LE_vt, x_LE_vt, x_LE_vt+vt_chord, x_LE_vt+vt_chord, x_LE_vt]\n",
    "\n",
    "    plt.plot(x_vt, y_vt, 'b-', label='vertical stab')\n",
    "\n",
    "def plot_rudder_side()->None:\n",
    "    x_LE_vt = 0.25*w_chord + vt_arm - 0.25*vt_chord\n",
    "    plt.plot([x_LE_vt + vt_chord*(1-rud_chord_ratio)]*2, [0, vt_span], 'b--')\n",
    "\n",
    "def plot_np_side(np_x:float)->None:\n",
    "    plt.plot(np_x, 0, 'r+', markersize=10, label='Neutral point')\n",
    "\n",
    "def plot_cg_side(cg_x: float)->None:\n",
    "    plt.plot(cg_x, -fus_height/2, 'b+', markersize=10, label='CG')\n",
    "\n",
    "def plot_fuselage_side()->None:\n",
    "    y_fus = [0, 0, -fus_height, -fus_height, 0]\n",
    "\n",
    "    x_aft = 0.25*w_chord + max(ht_arm + 0.75*ht_chord, vt_arm + 0.75*vt_chord)\n",
    "    x_fus = [x_aft, x_aft-fus_length, x_aft-fus_length, x_aft, x_aft]\n",
    "\n",
    "    plt. plot(x_fus, y_fus, 'k--', linewidth='1', label='Fuselage')\n",
    "\n",
    "def plot_propeller_side()->None:\n",
    "    x_aft = 0.25*w_chord + max(ht_arm + 0.75*ht_chord, vt_arm + 0.75*vt_chord)\n",
    "    x_prop = [x_aft, x_aft]\n",
    "    y_prop = [-0.035 + prop_diameter/2, -0.035 - prop_diameter/2]\n",
    "    plt.plot(x_prop, y_prop, 'r--', label='Propeller')\n",
    "\n",
    "def plot_landing_gear_side()->None:\n",
    "    wheel_X = lg_wheel_diam/2*np.cos(np.linspace(0, 2*np.pi, 20))\n",
    "    wheel_Y = lg_wheel_diam/2*np.sin(np.linspace(0, 2*np.pi, 20))\n",
    "\n",
    "    nosewheel_axis = [lg_nose_x, -fus_height-lg_height+lg_wheel_diam/2]\n",
    "    mainwheel_axis = [lg_main_x, -fus_height-lg_height+lg_wheel_diam/2]\n",
    "\n",
    "    plt.plot(nosewheel_axis[0]+wheel_X, nosewheel_axis[1]+wheel_Y, 'm-', label='Landing gear')\n",
    "    plt.plot(mainwheel_axis[0]+wheel_X, mainwheel_axis[1]+wheel_Y, 'm-')\n",
    "\n",
    "fig = plt.figure(figsize=(12,8), dpi=80)\n",
    "fig.gca().set_title('Conceptual design layout\\nSide View', fontsize=20)\n",
    "plot_fuselage_side()\n",
    "plot_wing_side()\n",
    "plot_ht_side()\n",
    "plot_vt_side()\n",
    "plot_rudder_side()\n",
    "plot_propeller_side()\n",
    "plot_np_side(np_x)\n",
    "plot_cg_side(cg_x)\n",
    "plot_landing_gear_side()\n",
    "plt.axis('equal')\n",
    "plt.legend()\n",
    "plt.show()"
   ]
  },
  {
   "cell_type": "code",
   "execution_count": null,
   "metadata": {},
   "outputs": [],
   "source": []
  }
 ],
 "metadata": {
  "kernelspec": {
   "display_name": "Python 3",
   "language": "python",
   "name": "python3"
  },
  "language_info": {
   "codemirror_mode": {
    "name": "ipython",
    "version": 3
   },
   "file_extension": ".py",
   "mimetype": "text/x-python",
   "name": "python",
   "nbconvert_exporter": "python",
   "pygments_lexer": "ipython3",
   "version": "3.9.2"
  },
  "orig_nbformat": 4,
  "vscode": {
   "interpreter": {
    "hash": "949777d72b0d2535278d3dc13498b2535136f6dfe0678499012e853ee9abcab1"
   }
  }
 },
 "nbformat": 4,
 "nbformat_minor": 2
}
