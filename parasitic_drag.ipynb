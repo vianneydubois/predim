{
 "cells": [
  {
   "attachments": {},
   "cell_type": "markdown",
   "metadata": {},
   "source": [
    "**Component buildup method to evaluate the parasitic drag coefficient $C_{D0}$**\n",
    "\n",
    "To be done :\n",
    "- accurate fuselage wetted area\n",
    "- surface fraction under laminar flow\n",
    "- landing gear drag coefficient\n",
    "- aft fuselage upsweep angle drag\n",
    "- protuberance drag"
   ]
  },
  {
   "cell_type": "code",
   "execution_count": 2,
   "metadata": {},
   "outputs": [],
   "source": [
    "import numpy as np"
   ]
  },
  {
   "attachments": {},
   "cell_type": "markdown",
   "metadata": {},
   "source": [
    "- Input data"
   ]
  },
  {
   "cell_type": "code",
   "execution_count": 3,
   "metadata": {},
   "outputs": [],
   "source": [
    "# FLIGHT CONDITIONS\n",
    "V = 18.0 # m/s\n",
    "\n",
    "# FUSELAGE\n",
    "fus_width = 0.25\n",
    "fus_height = 0.25\n",
    "fus_length = 2.2\n",
    "fus_x_tr = 0.0 # laminar to turbulent transition point\n",
    "fus_d_eq = np.sqrt(4*fus_height*fus_width/np.pi) # equivalent diameter\n",
    "\n",
    "# WING\n",
    "w_t_c = 0.125 # wing thickness-to-chord ratio\n",
    "w_x_c_max_t = 0.237 # wing max thickness location\n",
    "w_chord = 0.50\n",
    "w_S = 2.0\n",
    "w_x_tr = 0.10 # laminar to turbulent transition point\n",
    "\n",
    "# HORIZONTAL TAILPLANE\n",
    "ht_t_c = 0.12\n",
    "ht_x_c_max_t = 0.3\n",
    "ht_chord = 0.41\n",
    "ht_S = 0.66\n",
    "ht_x_tr = 0.10\n",
    "\n",
    "# VERTICAL TAILPLANE\n",
    "vt_t_c = 0.12\n",
    "vt_x_c_max_t = 0.3\n",
    "vt_chord = 0.43\n",
    "vt_S = 0.37\n",
    "vt_x_tr = 0.10\n",
    "\n",
    "# SKIN ROUGHNESS\n",
    "skin_roughness = 0.634e-5 # [metre], for smooth paint (Raymer)"
   ]
  },
  {
   "attachments": {},
   "cell_type": "markdown",
   "metadata": {},
   "source": [
    "- Useful functions"
   ]
  },
  {
   "cell_type": "code",
   "execution_count": 4,
   "metadata": {},
   "outputs": [],
   "source": [
    "# flat plate laminar friction coefficient\n",
    "def C_f_lam(Re):\n",
    "    return 1.328/np.sqrt(Re)\n",
    "\n",
    "# flat plate turbulent friction coefficient\n",
    "def C_f_turb(Re):\n",
    "    return 0.0442/(Re**(1/6))\n",
    "\n",
    "# Reynolds number at sea level conditions\n",
    "def Re(V, l):\n",
    "    return 1.225*V*l/1.8e-5\n",
    "\n",
    "# cutoff Reynolds number\n",
    "def Re_cutoff (l, k):\n",
    "    return 38.21 * (l/k)**1.053\n",
    "\n",
    "# lifting surface, pylon, strut, form factor\n",
    "def FF_wing(x_c_max, t_c):\n",
    "    return 1 + 0.6/x_c_max * t_c + 100 * t_c**4\n",
    "\n",
    "# fuselage form factor\n",
    "def FF_fus(length, d_eq, geometry: str='circ', ):\n",
    "    f = length/d_eq\n",
    "    FF = 0.9 + 5/f**1.5 + f/400\n",
    "    if geometry == 'square':\n",
    "        return FF*1.35 # Raymer : 30-40% extra FF for square-sided fuselage\n",
    "    elif geometry == 'circ':\n",
    "        return FF\n",
    "    else :\n",
    "        return FF\n",
    "\n",
    "# wing wetted area\n",
    "def S_wet_wing(S_exposed, t_c):\n",
    "    return S_exposed * (1.977 + 0.52*t_c)\n"
   ]
  },
  {
   "attachments": {},
   "cell_type": "markdown",
   "metadata": {},
   "source": [
    "- Friction drag"
   ]
  },
  {
   "cell_type": "code",
   "execution_count": 5,
   "metadata": {},
   "outputs": [],
   "source": [
    "# WING\n",
    "\n",
    "w_Re_cutoff = Re_cutoff(w_chord, skin_roughness)\n",
    "w_Re = Re(V, w_chord)\n",
    "\n",
    "if w_Re_cutoff < w_Re:\n",
    "    w_Re = w_Re_cutoff\n",
    "\n",
    "# flat plate friction coefficient\n",
    "w_C_f = w_x_tr * C_f_lam(w_Re) + (1-w_x_tr) * C_f_turb(w_Re)\n",
    "\n",
    "# wing form factor\n",
    "w_FF = FF_wing(w_x_c_max_t, w_t_c)\n",
    "\n",
    "# wing interference factor\n",
    "w_Q = 1.0 # Raymer, for a high-mounted wing\n",
    "\n",
    "# wing wetted area\n",
    "w_S_wet = S_wet_wing(w_S - fus_width * w_chord, w_t_c)\n",
    "\n",
    "# wing parasitic drag surface\n",
    "w_S_D_0 = w_C_f * w_FF * w_Q * w_S_wet\n"
   ]
  },
  {
   "cell_type": "code",
   "execution_count": 6,
   "metadata": {},
   "outputs": [],
   "source": [
    "# HORIZONTAL TAILPLANE\n",
    "\n",
    "ht_Re_cutoff = Re_cutoff(ht_chord, skin_roughness)\n",
    "ht_Re = Re(V, ht_chord)\n",
    "\n",
    "if ht_Re_cutoff < ht_Re:\n",
    "    ht_Re = ht_Re_cutoff\n",
    "\n",
    "# flat plate friction coefficient\n",
    "ht_C_f = ht_x_tr * C_f_lam(ht_Re) + (1-ht_x_tr) * C_f_turb(ht_Re)\n",
    "\n",
    "# ht form factor\n",
    "ht_FF = FF_wing(ht_x_c_max_t, ht_t_c)\n",
    "\n",
    "# ht interference factor\n",
    "ht_Q = 1.05 # Raymer, for a conventional tail\n",
    "\n",
    "# ht wetted area\n",
    "ht_S_wet = S_wet_wing(ht_S, ht_t_c)\n",
    "\n",
    "# ht parasitic drag surface\n",
    "ht_S_D_0 = ht_C_f * ht_FF * ht_Q * ht_S_wet"
   ]
  },
  {
   "cell_type": "code",
   "execution_count": 7,
   "metadata": {},
   "outputs": [],
   "source": [
    "# VERTICAL TAILPLANE\n",
    "\n",
    "vt_Re_cutoff = Re_cutoff(vt_chord, skin_roughness)\n",
    "vt_Re = Re(V, vt_chord)\n",
    "\n",
    "if vt_Re_cutoff < vt_Re:\n",
    "    vt_Re = vt_Re_cutoff\n",
    "\n",
    "# flat plate friction coefficient\n",
    "vt_C_f = vt_x_tr * C_f_lam(vt_Re) + (1-vt_x_tr) * C_f_turb(vt_Re)\n",
    "\n",
    "# vt form factor\n",
    "vt_FF = FF_wing(vt_x_c_max_t, vt_t_c)\n",
    "\n",
    "# vt interference factor\n",
    "vt_Q = 1.05 # Raymer, for a conventional tail\n",
    "\n",
    "# vt wetted area\n",
    "vt_S_wet = S_wet_wing(vt_S, vt_t_c)\n",
    "\n",
    "# vt parasitic drag surface\n",
    "vt_S_D_0 = vt_C_f * vt_FF * vt_Q * vt_S_wet"
   ]
  },
  {
   "cell_type": "code",
   "execution_count": 8,
   "metadata": {},
   "outputs": [],
   "source": [
    "# FUSELAGE\n",
    "\n",
    "fus_Re_cutoff = Re_cutoff(fus_d_eq, skin_roughness)\n",
    "fus_Re = Re(V, fus_d_eq)\n",
    "\n",
    "if fus_Re_cutoff < fus_Re:\n",
    "    fus_Re = fus_Re_cutoff\n",
    "\n",
    "# flat plate friction coefficient\n",
    "fus_C_f = fus_x_tr * C_f_lam(fus_Re) + (1-fus_x_tr) * C_f_turb(fus_Re)\n",
    "\n",
    "# fuselage form factor\n",
    "fus_FF = FF_fus(fus_length, fus_d_eq, 'rect')\n",
    "\n",
    "# fuselage interference factor\n",
    "fus_Q = 1.0 # Raymer\n",
    "\n",
    "# fuselage wetted area\n",
    "fus_S_wet = 2 * (fus_width + fus_height) * fus_length * 0.8 # /!\\ 0.8 factor is to be adjusted !!!!\n",
    "\n",
    "# fuselage parasitic drag surface\n",
    "fus_S_D_0 = fus_C_f * fus_FF * fus_Q * fus_S_wet"
   ]
  },
  {
   "cell_type": "code",
   "execution_count": 10,
   "metadata": {},
   "outputs": [],
   "source": [
    "# PARASITIC FRICTION DRAG COEFFICIENT\n",
    "C_D_0_f = (w_S_D_0 + ht_S_D_0 + vt_S_D_0 + fus_S_D_0) / w_S"
   ]
  },
  {
   "attachments": {},
   "cell_type": "markdown",
   "metadata": {},
   "source": [
    "- Miscellaneous drag"
   ]
  },
  {
   "cell_type": "code",
   "execution_count": null,
   "metadata": {},
   "outputs": [],
   "source": [
    "# Landing gear\n",
    "lg_"
   ]
  }
 ],
 "metadata": {
  "kernelspec": {
   "display_name": "Python 3",
   "language": "python",
   "name": "python3"
  },
  "language_info": {
   "codemirror_mode": {
    "name": "ipython",
    "version": 3
   },
   "file_extension": ".py",
   "mimetype": "text/x-python",
   "name": "python",
   "nbconvert_exporter": "python",
   "pygments_lexer": "ipython3",
   "version": "3.9.2"
  },
  "orig_nbformat": 4,
  "vscode": {
   "interpreter": {
    "hash": "949777d72b0d2535278d3dc13498b2535136f6dfe0678499012e853ee9abcab1"
   }
  }
 },
 "nbformat": 4,
 "nbformat_minor": 2
}
