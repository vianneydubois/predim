{
 "cells": [
  {
   "attachments": {},
   "cell_type": "markdown",
   "metadata": {},
   "source": [
    "**Component buildup method to evaluate the parasitic drag coefficient $C_{D0}$**"
   ]
  },
  {
   "cell_type": "code",
   "execution_count": 2,
   "metadata": {},
   "outputs": [],
   "source": [
    "import numpy as np"
   ]
  },
  {
   "attachments": {},
   "cell_type": "markdown",
   "metadata": {},
   "source": [
    "- Input data"
   ]
  },
  {
   "cell_type": "code",
   "execution_count": 3,
   "metadata": {},
   "outputs": [],
   "source": [
    "# FLIGHT CONDITIONS\n",
    "V = 18.0 # m/s\n",
    "\n",
    "# FUSELAGE\n",
    "fus_width = 0.25\n",
    "fus_height = 0.25\n",
    "fus_length = 2.2\n",
    "\n",
    "# WING\n",
    "w_t_c = 0.125 # wing thickness-to-chord ratio\n",
    "w_x_c_max = 0.237 # wing max thickness location\n",
    "w_chord = 0.50\n",
    "w_S = 2.0\n",
    "\n",
    "# HORIZONTAL TAILPLANE\n",
    "ht_t_c = 0.12\n",
    "ht_x_c_max = 0.3\n",
    "ht_chord = 0.41\n",
    "ht_S = 0.66\n",
    "\n",
    "# VERTICAL TAILPLANE\n",
    "vt_t_c = 0.12\n",
    "vt_x_c_max = 0.3\n",
    "vt_chord = 0.43\n",
    "vt_S = 0.37\n",
    "\n",
    "# SKIN ROUGHNESS\n",
    "skin_roughness = 0.634e-5 # [metre], for smooth paint (Raymer)"
   ]
  },
  {
   "attachments": {},
   "cell_type": "markdown",
   "metadata": {},
   "source": [
    "- Useful functions"
   ]
  },
  {
   "cell_type": "code",
   "execution_count": null,
   "metadata": {},
   "outputs": [],
   "source": [
    "# laminar friction coefficient\n",
    "def C_f_lam(Re):\n",
    "    return 1.328/np.sqrt(Re)\n",
    "\n",
    "# turbulent friction coefficient\n",
    "def C_f_turb(Re):\n",
    "    return 0.0442/(Re**1/6)\n",
    "\n",
    "# Reynolds number at sea level conditions\n",
    "def Re(V, l):\n",
    "    return 1.225*V*l/1.8e-5\n",
    "\n",
    "# cutoff Reynolds number\n",
    "def Re_cutoff (l, k):\n",
    "    return 38.21 * (l/k)**1.053\n",
    "\n",
    "# lifting surface, pylon, strut, form factor\n",
    "def FF_wing(x_c_max, t_c):\n",
    "    return 1 + 0.6/x_c_max * t_c + 100 * t_c**4\n",
    "\n",
    "# fuselage form factor\n",
    "def FF_fus(length, front_area, geometry: str='circ', ):\n",
    "    d_eq = np.sqrt(4*front_area/np.pi) # equivalent diameter\n",
    "    f = length/d_eq\n",
    "    FF = 0.9 + 5/f**1.5 + f/400\n",
    "    if geometry == 'square':\n",
    "        return FF*1.35 # Raymer : 30-40% extra FF for square-sided fuselage\n",
    "    elif geometry == 'circ':\n",
    "        return FF\n",
    "    else :\n",
    "        return FF\n",
    "\n",
    "# wing wetted area\n",
    "def S_wet_wing(S_exposed, t_c):\n",
    "    return S_exposed * (1.977 + 0.52*t_c)\n"
   ]
  },
  {
   "attachments": {},
   "cell_type": "markdown",
   "metadata": {},
   "source": [
    "- Friction drag"
   ]
  },
  {
   "cell_type": "code",
   "execution_count": 1,
   "metadata": {},
   "outputs": [],
   "source": [
    "# WING\n",
    "w_Re_cutoff = Re_cutoff(w_chord, skin_roughness)\n",
    "w_Re = Re(V, w_chord)"
   ]
  }
 ],
 "metadata": {
  "kernelspec": {
   "display_name": "Python 3",
   "language": "python",
   "name": "python3"
  },
  "language_info": {
   "codemirror_mode": {
    "name": "ipython",
    "version": 3
   },
   "file_extension": ".py",
   "mimetype": "text/x-python",
   "name": "python",
   "nbconvert_exporter": "python",
   "pygments_lexer": "ipython3",
   "version": "3.9.2"
  },
  "orig_nbformat": 4,
  "vscode": {
   "interpreter": {
    "hash": "949777d72b0d2535278d3dc13498b2535136f6dfe0678499012e853ee9abcab1"
   }
  }
 },
 "nbformat": 4,
 "nbformat_minor": 2
}
